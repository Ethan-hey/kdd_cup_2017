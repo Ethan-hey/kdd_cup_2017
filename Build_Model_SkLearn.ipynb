{
 "cells": [
  {
   "cell_type": "code",
   "execution_count": 1,
   "metadata": {
    "collapsed": true
   },
   "outputs": [],
   "source": [
    "import pandas as pd\n",
    "import sklearn\n",
    "import numpy as np\n",
    "import matplotlib.pyplot as plt\n",
    "import datetime\n",
    "from datetime import datetime\n",
    "%matplotlib inline\n",
    "pd.set_option('display.max_columns', 500)"
   ]
  },
  {
   "cell_type": "code",
   "execution_count": 2,
   "metadata": {
    "collapsed": true
   },
   "outputs": [],
   "source": [
    "links = pd.read_csv('training/links (table 3).csv')\n",
    "routes = pd.read_csv('training/routes (table 4).csv')\n",
    "trajectories = pd.read_csv('training/trajectories(table 5)_training.csv')\n",
    "volume = pd.read_csv('training/volume(table 6)_training.csv')\n",
    "weather = pd.read_csv('training/weather (table 7)_training.csv')\n",
    "\n",
    "submission = pd.read_csv('submission_sample_volume.csv')\n",
    "test_volume = pd.read_csv('testing_phase1/volume(table 6)_test1.csv')\n",
    "test_weather = pd.read_csv('testing_phase1/weather (table 7)_test1.csv')"
   ]
  },
  {
   "cell_type": "code",
   "execution_count": 3,
   "metadata": {
    "collapsed": true
   },
   "outputs": [],
   "source": [
    "def MAPE(preds, outputs):\n",
    "    preds = np.array(preds)\n",
    "    outputs = np.array(outputs)\n",
    "    return np.average(np.abs(outputs - preds) / outputs)"
   ]
  },
  {
   "cell_type": "markdown",
   "metadata": {},
   "source": [
    "# Feature Engineering "
   ]
  },
  {
   "cell_type": "markdown",
   "metadata": {},
   "source": [
    "## Part 1: Handle dates"
   ]
  },
  {
   "cell_type": "code",
   "execution_count": 4,
   "metadata": {
    "collapsed": true
   },
   "outputs": [],
   "source": [
    "def date_converter(volume, weather):\n",
    "    # Initialize lists to store splitted information\n",
    "    date_list = []\n",
    "    month_list = []\n",
    "    day_list = []\n",
    "    hour_list = []\n",
    "    minute_list = []\n",
    "    rounded_min_list = []\n",
    "    rounded_hour_list = []\n",
    "\n",
    "    # Splits the 'time' information into month, day, hour and minute\n",
    "    def date_spliter(date):\n",
    "        counter = 0\n",
    "        parts = date.split(\" \")\n",
    "        day_part = parts[0]\n",
    "        clock_part = parts[1]\n",
    "\n",
    "        day_parts = day_part.split(\"-\")\n",
    "        month = int(day_parts[1]) # Extract month from time\n",
    "        day = int(day_parts[2]) # Extract day from time\n",
    "\n",
    "        clock_parts = clock_part.split(\":\")\n",
    "        hour = int(clock_parts[0]) # Extract hour from time\n",
    "        minute = int(clock_parts[1]) # Extract minute from time\n",
    "\n",
    "        rounded_hour = str(hour // 3 * 3)\n",
    "        rounded_min = str(minute // 20 * 20)\n",
    "\n",
    "        date_list.append(day_part)\n",
    "        month_list.append(month)\n",
    "        day_list.append(day)\n",
    "        hour_list.append(hour)\n",
    "        minute_list.append(minute)\n",
    "        rounded_hour_list.append(rounded_hour)\n",
    "        rounded_min_list.append(rounded_min)\n",
    "\n",
    "    # Store info into lists\n",
    "    for date in volume['time']:\n",
    "        date_spliter(date)\n",
    "\n",
    "    # Add arrays into the 'volume' SFrame\n",
    "    volume['month'] = np.array(month_list)\n",
    "    volume['day'] = np.array(day_list)\n",
    "    volume['hour'] = np.array(hour_list)\n",
    "    volume['minute'] = np.array(minute_list)\n",
    "    volume['date'] = np.array(date_list)\n",
    "    volume['rounded_hour'] = np.array(rounded_hour_list)\n",
    "    volume['rounded_min'] = np.array(rounded_min_list)\n",
    "    \n",
    "    # Add an colume which combine 'date' and 'rounded_hour'\n",
    "    print type(volume['date'][0])\n",
    "    slash_list = np.array(['-'] * len(volume['date']))\n",
    "    volume['date_and_rounded_hour'] = volume['date'] + slash_list + volume['rounded_hour']\n",
    "    \n",
    "    slash_list = np.array(['-'] * len(weather['date']))\n",
    "    weather['date_and_rounded_hour'] = weather['date'] + slash_list + np.array([str(hour) for hour in weather['hour']])\n",
    "    \n",
    "    return (volume, weather)"
   ]
  },
  {
   "cell_type": "markdown",
   "metadata": {},
   "source": [
    "### Apply function"
   ]
  },
  {
   "cell_type": "code",
   "execution_count": 5,
   "metadata": {
    "collapsed": false
   },
   "outputs": [
    {
     "name": "stdout",
     "output_type": "stream",
     "text": [
      "<type 'str'>\n"
     ]
    }
   ],
   "source": [
    "(volume, weather) = date_converter(volume, weather)"
   ]
  },
  {
   "cell_type": "markdown",
   "metadata": {},
   "source": [
    "## Part 2: Join tables"
   ]
  },
  {
   "cell_type": "markdown",
   "metadata": {},
   "source": [
    "### a. Clean data"
   ]
  },
  {
   "cell_type": "code",
   "execution_count": 6,
   "metadata": {
    "collapsed": true
   },
   "outputs": [],
   "source": [
    "# Convert 'wind_direction' outlier to 360\n",
    "weather.loc[weather['wind_direction'] > 360, 'wind_direction'] = 360"
   ]
  },
  {
   "cell_type": "markdown",
   "metadata": {},
   "source": [
    "### b. Merge tables "
   ]
  },
  {
   "cell_type": "code",
   "execution_count": 7,
   "metadata": {
    "collapsed": true
   },
   "outputs": [],
   "source": [
    "def build_merged_tables(volume, weather, join_type='inner'):\n",
    "    # Merge 'volume' and 'weather' DataFrame together\n",
    "    volume_weather = pd.merge(volume, weather, on='date_and_rounded_hour', suffixes=('', '_y'))\n",
    "\n",
    "    # Construct 'window_time' list which uses date, hour, and rounded minute\n",
    "    date_list = volume_weather['date'] + np.array(['-'] * len(volume_weather))\n",
    "    hour_list = volume_weather['hour'].astype(str) + np.array(['-'] * len(volume_weather))\n",
    "    window_time_list = date_list + hour_list + volume_weather['rounded_min']\n",
    "    volume_weather['window_time'] = window_time_list\n",
    "    \n",
    "    return volume_weather"
   ]
  },
  {
   "cell_type": "markdown",
   "metadata": {},
   "source": [
    "### Apply Function"
   ]
  },
  {
   "cell_type": "code",
   "execution_count": 8,
   "metadata": {
    "collapsed": false
   },
   "outputs": [],
   "source": [
    "volume_weather = build_merged_tables(volume, weather)"
   ]
  },
  {
   "cell_type": "markdown",
   "metadata": {},
   "source": [
    "### c. Group data"
   ]
  },
  {
   "cell_type": "code",
   "execution_count": 9,
   "metadata": {
    "collapsed": false
   },
   "outputs": [],
   "source": [
    "# Group 'volume_weather' here\n",
    "def group_vw(volume_weather):\n",
    "    \n",
    "    volume_weather = volume_weather.groupby(['window_time', 'tollgate_id', 'direction'])\n",
    "    vwgrouped = volume_weather.agg('mean').join(pd.DataFrame(volume_weather.size(), columns=['count']))\n",
    "\n",
    "    # Put index as column\n",
    "    vwgrouped['direction'] = vwgrouped.index.get_level_values('direction')\n",
    "    vwgrouped['tollgate_id'] = vwgrouped.index.get_level_values('tollgate_id')\n",
    "    vwgrouped['window_time'] = vwgrouped.index.get_level_values('window_time')\n",
    "    \n",
    "    return vwgrouped"
   ]
  },
  {
   "cell_type": "markdown",
   "metadata": {},
   "source": [
    "### Apply function"
   ]
  },
  {
   "cell_type": "code",
   "execution_count": 10,
   "metadata": {
    "collapsed": true
   },
   "outputs": [],
   "source": [
    "vwgrouped = group_vw(volume_weather)"
   ]
  },
  {
   "cell_type": "markdown",
   "metadata": {},
   "source": [
    "### d. Data reconstruction"
   ]
  },
  {
   "cell_type": "code",
   "execution_count": 11,
   "metadata": {
    "collapsed": true
   },
   "outputs": [],
   "source": [
    "def re_construct_data(volume_weather):\n",
    "\n",
    "    # Create 'weekday' column in DateFrame(0 stands for Sunday; 1 stands for Monday and 2 stands for Tuesday, etc...)\n",
    "    sept = volume_weather[volume_weather['month'] == 9]\n",
    "    weekday1 = ((sept['day'] + 3) % 7).values\n",
    "    octo = volume_weather[volume_weather['month'] == 10]\n",
    "    weekday2 = ((octo['day'] + 5) % 7).values\n",
    "    volume_weather['weekday'] = np.append(weekday1, weekday2)\n",
    "    \n",
    "    # Create 'rounded_min' column\n",
    "    volume_weather['rounded_min'] = volume_weather['minute'] // 20 * 20\n",
    "    \n",
    "    # Construc splitted numerical data column\n",
    "    def split_value(df, column, values_list):\n",
    "        for i in range(len(values_list) - 1):\n",
    "            begin = values_list[i]\n",
    "            end = values_list[i+1]\n",
    "            new_column_name = column + \"_\" + str(begin) + \"_\" + str(end)\n",
    "            df[new_column_name] = (df[column] >= begin).astype(int) & (df[column] < end).astype(int)\n",
    "        return df\n",
    "    \n",
    "    # Create 'is_column_x' column in DataFrame\n",
    "    def create_is_columns(df, column_names):\n",
    "        for column_name in column_names:\n",
    "            for i in np.sort(df[column_name].unique()):\n",
    "                new_column_name = \"is_\" + column_name + \"_\" + str(i)\n",
    "                df[new_column_name] = (df[column_name] == i).astype(int)\n",
    "        return df\n",
    "\n",
    "    start = datetime.now()\n",
    "    is_columns = ['rounded_min', 'hour', 'tollgate_id', 'direction', 'weekday' ]\n",
    "    create_is_columns(volume_weather, is_columns)\n",
    "    end = datetime.now()\n",
    "    print (end - start).seconds\n",
    "    \n",
    "\n",
    "    # Construct 'is_festival' column\n",
    "    volume_weather['is_festival'] = np.array([0] * len(volume_weather))\n",
    "    sep_days = [15, 16, 17]\n",
    "    oct_days = [1, 2, 3, 4, 5, 6, 7]\n",
    "    for day in sep_days:\n",
    "        volume_weather.loc[((volume_weather['month'] == 9) & (volume_weather['day'] == day)), 'is_festival'] = 1\n",
    "    for day in oct_days:\n",
    "        volume_weather.loc[((volume_weather['month'] == 10) & (volume_weather['day'] == day)), 'is_festival'] = 1\n",
    "        \n",
    "    # Construct 'is_working_day' column\n",
    "    volume_weather['is_working_day'] = np.array([0] * len(volume_weather))\n",
    "    volume_weather.loc[((volume_weather['weekday'] < 5) & (volume_weather['weekday'] > 0)), 'is_working_day'] = 1\n",
    "    volume_weather.loc[volume_weather['is_festival'] == 1, 'is_working_day'] = 0\n",
    "    volume_weather.loc[((volume_weather['month'] == 9) & (volume_weather['day'] == 18)), 'is_working_day'] = 1\n",
    "    volume_weather.loc[((volume_weather['month'] == 10)\n",
    "                        & ((volume_weather['day'] == 8) | (volume_weather['day'] == 9))), 'is_working_day'] = 1\n",
    "            \n",
    "    # Normalized columns\n",
    "    def normalize_columns(df, column_names):\n",
    "        for column in column_names:\n",
    "            new_column = \"norm_\" + column\n",
    "            maxV = np.max(df[column])\n",
    "            minV = np.min(df[column])\n",
    "            df[new_column] = df[column].apply(lambda v : (v - minV) / (maxV - minV))\n",
    "        return df\n",
    "    \n",
    "    start = datetime.now()\n",
    "    to_norm = ['pressure', 'sea_pressure', 'wind_direction', 'wind_speed', 'temperature', 'rel_humidity', \n",
    "                         'precipitation']\n",
    "    volume_weather = normalize_columns(volume_weather, to_norm)\n",
    "    end = datetime.now()\n",
    "    print (end - start).seconds\n",
    "    \n",
    "    return volume_weather"
   ]
  },
  {
   "cell_type": "markdown",
   "metadata": {},
   "source": [
    "### Apply function"
   ]
  },
  {
   "cell_type": "code",
   "execution_count": 12,
   "metadata": {
    "collapsed": false,
    "scrolled": true
   },
   "outputs": [
    {
     "name": "stdout",
     "output_type": "stream",
     "text": [
      "0\n",
      "0\n"
     ]
    }
   ],
   "source": [
    "vwgrouped = re_construct_data(vwgrouped)"
   ]
  },
  {
   "cell_type": "code",
   "execution_count": 13,
   "metadata": {
    "collapsed": true
   },
   "outputs": [],
   "source": [
    "# ignore 'vehicle_model', 'has_etc', 'norm_sea_pressure'here\n",
    "my_features = ['norm_pressure', 'norm_wind_direction', 'norm_wind_speed', 'norm_temperature',\n",
    "               'norm_rel_humidity', 'norm_precipitation',\n",
    "               'is_working_day', 'is_festival',\n",
    "               'is_rounded_min_0.0', 'is_rounded_min_20.0', 'is_rounded_min_40.0',\n",
    "              'is_hour_1.0', 'is_hour_2.0', 'is_hour_3.0', 'is_hour_4.0', 'is_hour_5.0', 'is_hour_6.0',\n",
    "               'is_hour_7.0', 'is_hour_8.0', 'is_hour_9.0', 'is_hour_10.0', 'is_hour_11.0', 'is_hour_12.0',\n",
    "               'is_hour_13.0', 'is_hour_14.0', 'is_hour_15.0', 'is_hour_16.0', 'is_hour_17.0', 'is_hour_18.0',\n",
    "               'is_hour_19.0', 'is_hour_20.0', 'is_hour_21.0', 'is_hour_22.0', 'is_hour_23.0', 'is_hour_0.0', \n",
    "              'is_tollgate_id_1', 'is_tollgate_id_2', 'is_tollgate_id_3', 'is_direction_0', 'is_direction_1', \n",
    "              'is_weekday_0.0', 'is_weekday_1.0','is_weekday_2.0','is_weekday_3.0','is_weekday_4.0','is_weekday_5.0','is_weekday_6.0',]"
   ]
  },
  {
   "cell_type": "code",
   "execution_count": 14,
   "metadata": {
    "collapsed": false
   },
   "outputs": [],
   "source": [
    "# from sklearn.ensemble import ExtraTreesClassifier\n",
    "# from sklearn.datasets import load_iris\n",
    "# from sklearn.feature_selection import SelectFromModel\n",
    "\n",
    "# train_data = vwgrouped[my_features]\n",
    "# clf = ExtraTreesClassifier()\n",
    "# clf = clf.fit(train_data, vwgrouped['count'])\n",
    "\n",
    "# imps = clf.feature_importances_\n",
    "# imps = imps / sum(imps)\n",
    "\n",
    "# dic = {}\n",
    "# for i in range(len(imps)):\n",
    "#     dic[imps[i]] = my_features[i]\n",
    "# for key in sorted(dic, reverse=True):\n",
    "#     print dic[key], \"has weight:\", \"{0:.2f}\".format(key)"
   ]
  },
  {
   "cell_type": "markdown",
   "metadata": {},
   "source": [
    "## Create Test Set"
   ]
  },
  {
   "cell_type": "code",
   "execution_count": 15,
   "metadata": {
    "collapsed": true
   },
   "outputs": [],
   "source": [
    "# Best mape without splitting into 5 sets: 0.96349833440702359"
   ]
  },
  {
   "cell_type": "code",
   "execution_count": 16,
   "metadata": {
    "collapsed": false
   },
   "outputs": [
    {
     "name": "stdout",
     "output_type": "stream",
     "text": [
      "<type 'str'>\n",
      "0\n",
      "0\n"
     ]
    }
   ],
   "source": [
    "# Construct test set\n",
    "(test_volume, test_weather) = date_converter(test_volume, test_weather)\n",
    "test_volume_weather = build_merged_tables(test_volume, test_weather)\n",
    "test_vwgrouped = group_vw(test_volume_weather)\n",
    "test_vwgrouped = re_construct_data(test_vwgrouped)"
   ]
  },
  {
   "cell_type": "code",
   "execution_count": 17,
   "metadata": {
    "collapsed": true
   },
   "outputs": [],
   "source": [
    "# Split training and validation set\n",
    "training = vwgrouped[:8000]\n",
    "validation = vwgrouped[8000:]"
   ]
  },
  {
   "cell_type": "code",
   "execution_count": 18,
   "metadata": {
    "collapsed": true
   },
   "outputs": [],
   "source": [
    "# Fill in missing columns in test set\n",
    "for feature in my_features:\n",
    "    if feature not in test_vwgrouped:\n",
    "        test_vwgrouped[feature] = np.array([0] * len(test_vwgrouped))"
   ]
  },
  {
   "cell_type": "code",
   "execution_count": 19,
   "metadata": {
    "collapsed": false
   },
   "outputs": [
    {
     "name": "stdout",
     "output_type": "stream",
     "text": [
      "1 0\n",
      "1 1\n",
      "2 0\n",
      "3 0\n",
      "3 1\n"
     ]
    }
   ],
   "source": [
    "# Split trining set into 5\n",
    "\n",
    "train_sets = []\n",
    "test_sets = []\n",
    "for i in range(1, 4):\n",
    "    for j in range(2):\n",
    "        if ((i == 2) and (j == 1)): \n",
    "            break\n",
    "        print i, j\n",
    "        train_set = training[(training['tollgate_id'] == i) & (training['direction'] == j)]\n",
    "        test_set = test_vwgrouped[(test_vwgrouped['tollgate_id'] == i) & (test_vwgrouped['direction'] == j)]\n",
    "        train_sets.append(train_set)\n",
    "        test_sets.append(test_set)"
   ]
  },
  {
   "cell_type": "code",
   "execution_count": 20,
   "metadata": {
    "collapsed": true
   },
   "outputs": [],
   "source": [
    "from sklearn import linear_model"
   ]
  },
  {
   "cell_type": "code",
   "execution_count": 21,
   "metadata": {
    "collapsed": false
   },
   "outputs": [],
   "source": [
    "preds = []\n",
    "mapes = []\n",
    "regs = []\n",
    "from sklearn import linear_model\n",
    "alphas = np.arange(0, 2, 0.01)\n",
    "for a in alphas:\n",
    "    reg = linear_model.Ridge(alpha=a)\n",
    "    reg.fit(training[my_features], training['count'])\n",
    "    regs.append(reg)\n",
    "    pred = reg.predict(validation[my_features])\n",
    "    preds.append(pred)\n",
    "    mape = MAPE(pred, validation['count'])\n",
    "    mapes.append(mape)"
   ]
  },
  {
   "cell_type": "code",
   "execution_count": 22,
   "metadata": {
    "collapsed": false
   },
   "outputs": [
    {
     "data": {
      "text/plain": [
       "200"
      ]
     },
     "execution_count": 22,
     "metadata": {},
     "output_type": "execute_result"
    }
   ],
   "source": [
    "len(alphas)"
   ]
  },
  {
   "cell_type": "code",
   "execution_count": 23,
   "metadata": {
    "collapsed": false
   },
   "outputs": [
    {
     "data": {
      "image/png": "[encoded data removed]",
      "text/plain": [
       "<matplotlib.figure.Figure at 0x1324cb70>"
      ]
     },
     "metadata": {},
     "output_type": "display_data"
    }
   ],
   "source": [
    "plt.plot(alphas, mapes)\n",
    "plt.show()"
   ]
  },
  {
   "cell_type": "code",
   "execution_count": 24,
   "metadata": {
    "collapsed": false,
    "scrolled": true
   },
   "outputs": [
    {
     "name": "stdout",
     "output_type": "stream",
     "text": [
      "0.963498334407\n"
     ]
    }
   ],
   "source": [
    "print np.min(mapes)"
   ]
  },
  {
   "cell_type": "code",
   "execution_count": 25,
   "metadata": {
    "collapsed": false
   },
   "outputs": [
    {
     "name": "stdout",
     "output_type": "stream",
     "text": [
      "199\n"
     ]
    }
   ],
   "source": [
    "print np.argmin(mapes)"
   ]
  },
  {
   "cell_type": "code",
   "execution_count": 26,
   "metadata": {
    "collapsed": false
   },
   "outputs": [
    {
     "name": "stdout",
     "output_type": "stream",
     "text": [
      "[0.97177057051423865, 0.96594461477843507, 0.96593126061316581, 0.96591791398364257, 0.9659045748827858, 0.96589124330352727, 0.96587791923880606, 0.96586460268157437, 0.96585129362478939, 0.96583799206142218]\n"
     ]
    }
   ],
   "source": [
    "print mapes[:10]"
   ]
  },
  {
   "cell_type": "code",
   "execution_count": 28,
   "metadata": {
    "collapsed": true
   },
   "outputs": [],
   "source": [
    "vwgrouped['time_window_formatted'] = pd.to_datetime(vwgrouped['window_time'], format='%Y-%m-%d-%M-%S')"
   ]
  },
  {
   "cell_type": "code",
   "execution_count": 29,
   "metadata": {
    "collapsed": true
   },
   "outputs": [],
   "source": [
    "id1direc0 = vwgrouped[(vwgrouped['tollgate_id'] == 1) & (vwgrouped['direction'] == 0)]"
   ]
  },
  {
   "cell_type": "code",
   "execution_count": 30,
   "metadata": {
    "collapsed": false
   },
   "outputs": [
    {
     "name": "stderr",
     "output_type": "stream",
     "text": [
      "C:\\Users\\THINKPAD\\Anaconda2\\lib\\site-packages\\ipykernel\\__main__.py:1: SettingWithCopyWarning: \n",
      "A value is trying to be set on a copy of a slice from a DataFrame.\n",
      "Try using .loc[row_indexer,col_indexer] = value instead\n",
      "\n",
      "See the caveats in the documentation: http://pandas.pydata.org/pandas-docs/stable/indexing.html#indexing-view-versus-copy\n",
      "  if __name__ == '__main__':\n"
     ]
    }
   ],
   "source": [
    "id1direc0['seq'] = np.array(range(len(id1direc0)))"
   ]
  },
  {
   "cell_type": "code",
   "execution_count": 31,
   "metadata": {
    "collapsed": false
   },
   "outputs": [
    {
     "data": {
      "text/plain": [
       "[<matplotlib.lines.Line2D at 0x12e90fd0>]"
      ]
     },
     "execution_count": 31,
     "metadata": {},
     "output_type": "execute_result"
    },
    {
     "data": {
      "image/png": "[encoded data removed]",
      "text/plain": [
       "<matplotlib.figure.Figure at 0x1b5fad68>"
      ]
     },
     "metadata": {},
     "output_type": "display_data"
    }
   ],
   "source": [
    "plt.plot(id1direc0['seq'][:100], id1direc0['count'][:100], '.')"
   ]
  },
  {
   "cell_type": "code",
   "execution_count": 32,
   "metadata": {
    "collapsed": false
   },
   "outputs": [
    {
     "data": {
      "text/plain": [
       "9630"
      ]
     },
     "execution_count": 32,
     "metadata": {},
     "output_type": "execute_result"
    }
   ],
   "source": [
    "len(vwgrouped)"
   ]
  },
  {
   "cell_type": "code",
   "execution_count": 33,
   "metadata": {
    "collapsed": false
   },
   "outputs": [
    {
     "data": {
      "text/plain": [
       "1994"
      ]
     },
     "execution_count": 33,
     "metadata": {},
     "output_type": "execute_result"
    }
   ],
   "source": [
    "len(id1direc0)"
   ]
  },
  {
   "cell_type": "code",
   "execution_count": 34,
   "metadata": {
    "collapsed": false
   },
   "outputs": [
    {
     "name": "stderr",
     "output_type": "stream",
     "text": [
      "C:\\Users\\THINKPAD\\Anaconda2\\lib\\site-packages\\ipykernel\\__main__.py:1: FutureWarning: sort(columns=....) is deprecated, use sort_values(by=.....)\n",
      "  if __name__ == '__main__':\n"
     ]
    }
   ],
   "source": [
    "id1direc0 = id1direc0.sort(columns='time_window_formatted')"
   ]
  },
  {
   "cell_type": "code",
   "execution_count": 35,
   "metadata": {
    "collapsed": false
   },
   "outputs": [
    {
     "data": {
      "text/html": [
       "<div>\n",
       "<table border=\"1\" class=\"dataframe\">\n",
       "  <thead>\n",
       "    <tr style=\"text-align: right;\">\n",
       "      <th></th>\n",
       "      <th></th>\n",
       "      <th></th>\n",
       "      <th>vehicle_model</th>\n",
       "      <th>has_etc</th>\n",
       "      <th>vehicle_type</th>\n",
       "      <th>month</th>\n",
       "      <th>day</th>\n",
       "      <th>hour</th>\n",
       "      <th>minute</th>\n",
       "      <th>hour_y</th>\n",
       "      <th>pressure</th>\n",
       "      <th>sea_pressure</th>\n",
       "      <th>wind_direction</th>\n",
       "      <th>wind_speed</th>\n",
       "      <th>temperature</th>\n",
       "      <th>rel_humidity</th>\n",
       "      <th>precipitation</th>\n",
       "      <th>count</th>\n",
       "      <th>direction</th>\n",
       "      <th>tollgate_id</th>\n",
       "      <th>window_time</th>\n",
       "      <th>weekday</th>\n",
       "      <th>rounded_min</th>\n",
       "      <th>is_rounded_min_0.0</th>\n",
       "      <th>is_rounded_min_20.0</th>\n",
       "      <th>is_rounded_min_40.0</th>\n",
       "      <th>is_hour_0.0</th>\n",
       "      <th>is_hour_1.0</th>\n",
       "      <th>is_hour_2.0</th>\n",
       "      <th>is_hour_3.0</th>\n",
       "      <th>is_hour_4.0</th>\n",
       "      <th>is_hour_5.0</th>\n",
       "      <th>is_hour_6.0</th>\n",
       "      <th>is_hour_7.0</th>\n",
       "      <th>is_hour_8.0</th>\n",
       "      <th>is_hour_9.0</th>\n",
       "      <th>is_hour_10.0</th>\n",
       "      <th>is_hour_11.0</th>\n",
       "      <th>is_hour_12.0</th>\n",
       "      <th>is_hour_13.0</th>\n",
       "      <th>is_hour_14.0</th>\n",
       "      <th>is_hour_15.0</th>\n",
       "      <th>is_hour_16.0</th>\n",
       "      <th>is_hour_17.0</th>\n",
       "      <th>is_hour_18.0</th>\n",
       "      <th>is_hour_19.0</th>\n",
       "      <th>is_hour_20.0</th>\n",
       "      <th>is_hour_21.0</th>\n",
       "      <th>is_hour_22.0</th>\n",
       "      <th>is_hour_23.0</th>\n",
       "      <th>is_tollgate_id_1</th>\n",
       "      <th>is_tollgate_id_2</th>\n",
       "      <th>is_tollgate_id_3</th>\n",
       "      <th>is_direction_0</th>\n",
       "      <th>is_direction_1</th>\n",
       "      <th>is_weekday_0.0</th>\n",
       "      <th>is_weekday_1.0</th>\n",
       "      <th>is_weekday_2.0</th>\n",
       "      <th>is_weekday_3.0</th>\n",
       "      <th>is_weekday_4.0</th>\n",
       "      <th>is_weekday_5.0</th>\n",
       "      <th>is_weekday_6.0</th>\n",
       "      <th>is_festival</th>\n",
       "      <th>is_working_day</th>\n",
       "      <th>norm_pressure</th>\n",
       "      <th>norm_sea_pressure</th>\n",
       "      <th>norm_wind_direction</th>\n",
       "      <th>norm_wind_speed</th>\n",
       "      <th>norm_temperature</th>\n",
       "      <th>norm_rel_humidity</th>\n",
       "      <th>norm_precipitation</th>\n",
       "      <th>time_window_formatted</th>\n",
       "      <th>seq</th>\n",
       "    </tr>\n",
       "    <tr>\n",
       "      <th>window_time</th>\n",
       "      <th>tollgate_id</th>\n",
       "      <th>direction</th>\n",
       "      <th></th>\n",
       "      <th></th>\n",
       "      <th></th>\n",
       "      <th></th>\n",
       "      <th></th>\n",
       "      <th></th>\n",
       "      <th></th>\n",
       "      <th></th>\n",
       "      <th></th>\n",
       "      <th></th>\n",
       "      <th></th>\n",
       "      <th></th>\n",
       "      <th></th>\n",
       "      <th></th>\n",
       "      <th></th>\n",
       "      <th></th>\n",
       "      <th></th>\n",
       "      <th></th>\n",
       "      <th></th>\n",
       "      <th></th>\n",
       "      <th></th>\n",
       "      <th></th>\n",
       "      <th></th>\n",
       "      <th></th>\n",
       "      <th></th>\n",
       "      <th></th>\n",
       "      <th></th>\n",
       "      <th></th>\n",
       "      <th></th>\n",
       "      <th></th>\n",
       "      <th></th>\n",
       "      <th></th>\n",
       "      <th></th>\n",
       "      <th></th>\n",
       "      <th></th>\n",
       "      <th></th>\n",
       "      <th></th>\n",
       "      <th></th>\n",
       "      <th></th>\n",
       "      <th></th>\n",
       "      <th></th>\n",
       "      <th></th>\n",
       "      <th></th>\n",
       "      <th></th>\n",
       "      <th></th>\n",
       "      <th></th>\n",
       "      <th></th>\n",
       "      <th></th>\n",
       "      <th></th>\n",
       "      <th></th>\n",
       "      <th></th>\n",
       "      <th></th>\n",
       "      <th></th>\n",
       "      <th></th>\n",
       "      <th></th>\n",
       "      <th></th>\n",
       "      <th></th>\n",
       "      <th></th>\n",
       "      <th></th>\n",
       "      <th></th>\n",
       "      <th></th>\n",
       "      <th></th>\n",
       "      <th></th>\n",
       "      <th></th>\n",
       "      <th></th>\n",
       "      <th></th>\n",
       "      <th></th>\n",
       "      <th></th>\n",
       "      <th></th>\n",
       "      <th></th>\n",
       "      <th></th>\n",
       "    </tr>\n",
       "  </thead>\n",
       "  <tbody>\n",
       "    <tr>\n",
       "      <th>2016-09-19-0-0</th>\n",
       "      <th>1</th>\n",
       "      <th>0</th>\n",
       "      <td>1.692308</td>\n",
       "      <td>0.307692</td>\n",
       "      <td>NaN</td>\n",
       "      <td>9.0</td>\n",
       "      <td>19.0</td>\n",
       "      <td>0.0</td>\n",
       "      <td>11.923077</td>\n",
       "      <td>0.0</td>\n",
       "      <td>1008.2</td>\n",
       "      <td>1013.2</td>\n",
       "      <td>329.0</td>\n",
       "      <td>2.8</td>\n",
       "      <td>22.2</td>\n",
       "      <td>76.0</td>\n",
       "      <td>0.0</td>\n",
       "      <td>13</td>\n",
       "      <td>0</td>\n",
       "      <td>1</td>\n",
       "      <td>2016-09-19-0-0</td>\n",
       "      <td>1.0</td>\n",
       "      <td>0.0</td>\n",
       "      <td>1</td>\n",
       "      <td>0</td>\n",
       "      <td>0</td>\n",
       "      <td>1</td>\n",
       "      <td>0</td>\n",
       "      <td>0</td>\n",
       "      <td>0</td>\n",
       "      <td>0</td>\n",
       "      <td>0</td>\n",
       "      <td>0</td>\n",
       "      <td>0</td>\n",
       "      <td>0</td>\n",
       "      <td>0</td>\n",
       "      <td>0</td>\n",
       "      <td>0</td>\n",
       "      <td>0</td>\n",
       "      <td>0</td>\n",
       "      <td>0</td>\n",
       "      <td>0</td>\n",
       "      <td>0</td>\n",
       "      <td>0</td>\n",
       "      <td>0</td>\n",
       "      <td>0</td>\n",
       "      <td>0</td>\n",
       "      <td>0</td>\n",
       "      <td>0</td>\n",
       "      <td>0</td>\n",
       "      <td>1</td>\n",
       "      <td>0</td>\n",
       "      <td>0</td>\n",
       "      <td>1</td>\n",
       "      <td>0</td>\n",
       "      <td>0</td>\n",
       "      <td>1</td>\n",
       "      <td>0</td>\n",
       "      <td>0</td>\n",
       "      <td>0</td>\n",
       "      <td>0</td>\n",
       "      <td>0</td>\n",
       "      <td>0</td>\n",
       "      <td>1</td>\n",
       "      <td>0.337662</td>\n",
       "      <td>0.339744</td>\n",
       "      <td>0.913649</td>\n",
       "      <td>0.373333</td>\n",
       "      <td>0.433155</td>\n",
       "      <td>0.607143</td>\n",
       "      <td>0.0</td>\n",
       "      <td>2016-09-19 00:00:00</td>\n",
       "      <td>0</td>\n",
       "    </tr>\n",
       "    <tr>\n",
       "      <th>2016-09-19-0-20</th>\n",
       "      <th>1</th>\n",
       "      <th>0</th>\n",
       "      <td>1.000000</td>\n",
       "      <td>0.166667</td>\n",
       "      <td>NaN</td>\n",
       "      <td>9.0</td>\n",
       "      <td>19.0</td>\n",
       "      <td>0.0</td>\n",
       "      <td>29.833333</td>\n",
       "      <td>0.0</td>\n",
       "      <td>1008.2</td>\n",
       "      <td>1013.2</td>\n",
       "      <td>329.0</td>\n",
       "      <td>2.8</td>\n",
       "      <td>22.2</td>\n",
       "      <td>76.0</td>\n",
       "      <td>0.0</td>\n",
       "      <td>6</td>\n",
       "      <td>0</td>\n",
       "      <td>1</td>\n",
       "      <td>2016-09-19-0-20</td>\n",
       "      <td>1.0</td>\n",
       "      <td>20.0</td>\n",
       "      <td>0</td>\n",
       "      <td>1</td>\n",
       "      <td>0</td>\n",
       "      <td>1</td>\n",
       "      <td>0</td>\n",
       "      <td>0</td>\n",
       "      <td>0</td>\n",
       "      <td>0</td>\n",
       "      <td>0</td>\n",
       "      <td>0</td>\n",
       "      <td>0</td>\n",
       "      <td>0</td>\n",
       "      <td>0</td>\n",
       "      <td>0</td>\n",
       "      <td>0</td>\n",
       "      <td>0</td>\n",
       "      <td>0</td>\n",
       "      <td>0</td>\n",
       "      <td>0</td>\n",
       "      <td>0</td>\n",
       "      <td>0</td>\n",
       "      <td>0</td>\n",
       "      <td>0</td>\n",
       "      <td>0</td>\n",
       "      <td>0</td>\n",
       "      <td>0</td>\n",
       "      <td>0</td>\n",
       "      <td>1</td>\n",
       "      <td>0</td>\n",
       "      <td>0</td>\n",
       "      <td>1</td>\n",
       "      <td>0</td>\n",
       "      <td>0</td>\n",
       "      <td>1</td>\n",
       "      <td>0</td>\n",
       "      <td>0</td>\n",
       "      <td>0</td>\n",
       "      <td>0</td>\n",
       "      <td>0</td>\n",
       "      <td>0</td>\n",
       "      <td>1</td>\n",
       "      <td>0.337662</td>\n",
       "      <td>0.339744</td>\n",
       "      <td>0.913649</td>\n",
       "      <td>0.373333</td>\n",
       "      <td>0.433155</td>\n",
       "      <td>0.607143</td>\n",
       "      <td>0.0</td>\n",
       "      <td>2016-09-19 00:00:20</td>\n",
       "      <td>1</td>\n",
       "    </tr>\n",
       "    <tr>\n",
       "      <th>2016-09-19-0-40</th>\n",
       "      <th>1</th>\n",
       "      <th>0</th>\n",
       "      <td>1.888889</td>\n",
       "      <td>0.111111</td>\n",
       "      <td>NaN</td>\n",
       "      <td>9.0</td>\n",
       "      <td>19.0</td>\n",
       "      <td>0.0</td>\n",
       "      <td>49.000000</td>\n",
       "      <td>0.0</td>\n",
       "      <td>1008.2</td>\n",
       "      <td>1013.2</td>\n",
       "      <td>329.0</td>\n",
       "      <td>2.8</td>\n",
       "      <td>22.2</td>\n",
       "      <td>76.0</td>\n",
       "      <td>0.0</td>\n",
       "      <td>9</td>\n",
       "      <td>0</td>\n",
       "      <td>1</td>\n",
       "      <td>2016-09-19-0-40</td>\n",
       "      <td>1.0</td>\n",
       "      <td>40.0</td>\n",
       "      <td>0</td>\n",
       "      <td>0</td>\n",
       "      <td>1</td>\n",
       "      <td>1</td>\n",
       "      <td>0</td>\n",
       "      <td>0</td>\n",
       "      <td>0</td>\n",
       "      <td>0</td>\n",
       "      <td>0</td>\n",
       "      <td>0</td>\n",
       "      <td>0</td>\n",
       "      <td>0</td>\n",
       "      <td>0</td>\n",
       "      <td>0</td>\n",
       "      <td>0</td>\n",
       "      <td>0</td>\n",
       "      <td>0</td>\n",
       "      <td>0</td>\n",
       "      <td>0</td>\n",
       "      <td>0</td>\n",
       "      <td>0</td>\n",
       "      <td>0</td>\n",
       "      <td>0</td>\n",
       "      <td>0</td>\n",
       "      <td>0</td>\n",
       "      <td>0</td>\n",
       "      <td>0</td>\n",
       "      <td>1</td>\n",
       "      <td>0</td>\n",
       "      <td>0</td>\n",
       "      <td>1</td>\n",
       "      <td>0</td>\n",
       "      <td>0</td>\n",
       "      <td>1</td>\n",
       "      <td>0</td>\n",
       "      <td>0</td>\n",
       "      <td>0</td>\n",
       "      <td>0</td>\n",
       "      <td>0</td>\n",
       "      <td>0</td>\n",
       "      <td>1</td>\n",
       "      <td>0.337662</td>\n",
       "      <td>0.339744</td>\n",
       "      <td>0.913649</td>\n",
       "      <td>0.373333</td>\n",
       "      <td>0.433155</td>\n",
       "      <td>0.607143</td>\n",
       "      <td>0.0</td>\n",
       "      <td>2016-09-19 00:00:40</td>\n",
       "      <td>2</td>\n",
       "    </tr>\n",
       "    <tr>\n",
       "      <th>2016-09-19-1-0</th>\n",
       "      <th>1</th>\n",
       "      <th>0</th>\n",
       "      <td>2.200000</td>\n",
       "      <td>0.100000</td>\n",
       "      <td>NaN</td>\n",
       "      <td>9.0</td>\n",
       "      <td>19.0</td>\n",
       "      <td>1.0</td>\n",
       "      <td>13.200000</td>\n",
       "      <td>0.0</td>\n",
       "      <td>1008.2</td>\n",
       "      <td>1013.2</td>\n",
       "      <td>329.0</td>\n",
       "      <td>2.8</td>\n",
       "      <td>22.2</td>\n",
       "      <td>76.0</td>\n",
       "      <td>0.0</td>\n",
       "      <td>10</td>\n",
       "      <td>0</td>\n",
       "      <td>1</td>\n",
       "      <td>2016-09-19-1-0</td>\n",
       "      <td>1.0</td>\n",
       "      <td>0.0</td>\n",
       "      <td>1</td>\n",
       "      <td>0</td>\n",
       "      <td>0</td>\n",
       "      <td>0</td>\n",
       "      <td>1</td>\n",
       "      <td>0</td>\n",
       "      <td>0</td>\n",
       "      <td>0</td>\n",
       "      <td>0</td>\n",
       "      <td>0</td>\n",
       "      <td>0</td>\n",
       "      <td>0</td>\n",
       "      <td>0</td>\n",
       "      <td>0</td>\n",
       "      <td>0</td>\n",
       "      <td>0</td>\n",
       "      <td>0</td>\n",
       "      <td>0</td>\n",
       "      <td>0</td>\n",
       "      <td>0</td>\n",
       "      <td>0</td>\n",
       "      <td>0</td>\n",
       "      <td>0</td>\n",
       "      <td>0</td>\n",
       "      <td>0</td>\n",
       "      <td>0</td>\n",
       "      <td>0</td>\n",
       "      <td>1</td>\n",
       "      <td>0</td>\n",
       "      <td>0</td>\n",
       "      <td>1</td>\n",
       "      <td>0</td>\n",
       "      <td>0</td>\n",
       "      <td>1</td>\n",
       "      <td>0</td>\n",
       "      <td>0</td>\n",
       "      <td>0</td>\n",
       "      <td>0</td>\n",
       "      <td>0</td>\n",
       "      <td>0</td>\n",
       "      <td>1</td>\n",
       "      <td>0.337662</td>\n",
       "      <td>0.339744</td>\n",
       "      <td>0.913649</td>\n",
       "      <td>0.373333</td>\n",
       "      <td>0.433155</td>\n",
       "      <td>0.607143</td>\n",
       "      <td>0.0</td>\n",
       "      <td>2016-09-19 00:01:00</td>\n",
       "      <td>3</td>\n",
       "    </tr>\n",
       "    <tr>\n",
       "      <th>2016-09-19-1-20</th>\n",
       "      <th>1</th>\n",
       "      <th>0</th>\n",
       "      <td>1.428571</td>\n",
       "      <td>0.214286</td>\n",
       "      <td>NaN</td>\n",
       "      <td>9.0</td>\n",
       "      <td>19.0</td>\n",
       "      <td>1.0</td>\n",
       "      <td>27.000000</td>\n",
       "      <td>0.0</td>\n",
       "      <td>1008.2</td>\n",
       "      <td>1013.2</td>\n",
       "      <td>329.0</td>\n",
       "      <td>2.8</td>\n",
       "      <td>22.2</td>\n",
       "      <td>76.0</td>\n",
       "      <td>0.0</td>\n",
       "      <td>14</td>\n",
       "      <td>0</td>\n",
       "      <td>1</td>\n",
       "      <td>2016-09-19-1-20</td>\n",
       "      <td>1.0</td>\n",
       "      <td>20.0</td>\n",
       "      <td>0</td>\n",
       "      <td>1</td>\n",
       "      <td>0</td>\n",
       "      <td>0</td>\n",
       "      <td>1</td>\n",
       "      <td>0</td>\n",
       "      <td>0</td>\n",
       "      <td>0</td>\n",
       "      <td>0</td>\n",
       "      <td>0</td>\n",
       "      <td>0</td>\n",
       "      <td>0</td>\n",
       "      <td>0</td>\n",
       "      <td>0</td>\n",
       "      <td>0</td>\n",
       "      <td>0</td>\n",
       "      <td>0</td>\n",
       "      <td>0</td>\n",
       "      <td>0</td>\n",
       "      <td>0</td>\n",
       "      <td>0</td>\n",
       "      <td>0</td>\n",
       "      <td>0</td>\n",
       "      <td>0</td>\n",
       "      <td>0</td>\n",
       "      <td>0</td>\n",
       "      <td>0</td>\n",
       "      <td>1</td>\n",
       "      <td>0</td>\n",
       "      <td>0</td>\n",
       "      <td>1</td>\n",
       "      <td>0</td>\n",
       "      <td>0</td>\n",
       "      <td>1</td>\n",
       "      <td>0</td>\n",
       "      <td>0</td>\n",
       "      <td>0</td>\n",
       "      <td>0</td>\n",
       "      <td>0</td>\n",
       "      <td>0</td>\n",
       "      <td>1</td>\n",
       "      <td>0.337662</td>\n",
       "      <td>0.339744</td>\n",
       "      <td>0.913649</td>\n",
       "      <td>0.373333</td>\n",
       "      <td>0.433155</td>\n",
       "      <td>0.607143</td>\n",
       "      <td>0.0</td>\n",
       "      <td>2016-09-19 00:01:20</td>\n",
       "      <td>4</td>\n",
       "    </tr>\n",
       "  </tbody>\n",
       "</table>\n",
       "</div>"
      ],
      "text/plain": [
       "                                       vehicle_model   has_etc  vehicle_type  \\\n",
       "window_time     tollgate_id direction                                          \n",
       "2016-09-19-0-0  1           0               1.692308  0.307692           NaN   \n",
       "2016-09-19-0-20 1           0               1.000000  0.166667           NaN   \n",
       "2016-09-19-0-40 1           0               1.888889  0.111111           NaN   \n",
       "2016-09-19-1-0  1           0               2.200000  0.100000           NaN   \n",
       "2016-09-19-1-20 1           0               1.428571  0.214286           NaN   \n",
       "\n",
       "                                       month   day  hour     minute  hour_y  \\\n",
       "window_time     tollgate_id direction                                         \n",
       "2016-09-19-0-0  1           0            9.0  19.0   0.0  11.923077     0.0   \n",
       "2016-09-19-0-20 1           0            9.0  19.0   0.0  29.833333     0.0   \n",
       "2016-09-19-0-40 1           0            9.0  19.0   0.0  49.000000     0.0   \n",
       "2016-09-19-1-0  1           0            9.0  19.0   1.0  13.200000     0.0   \n",
       "2016-09-19-1-20 1           0            9.0  19.0   1.0  27.000000     0.0   \n",
       "\n",
       "                                       pressure  sea_pressure  wind_direction  \\\n",
       "window_time     tollgate_id direction                                           \n",
       "2016-09-19-0-0  1           0            1008.2        1013.2           329.0   \n",
       "2016-09-19-0-20 1           0            1008.2        1013.2           329.0   \n",
       "2016-09-19-0-40 1           0            1008.2        1013.2           329.0   \n",
       "2016-09-19-1-0  1           0            1008.2        1013.2           329.0   \n",
       "2016-09-19-1-20 1           0            1008.2        1013.2           329.0   \n",
       "\n",
       "                                       wind_speed  temperature  rel_humidity  \\\n",
       "window_time     tollgate_id direction                                          \n",
       "2016-09-19-0-0  1           0                 2.8         22.2          76.0   \n",
       "2016-09-19-0-20 1           0                 2.8         22.2          76.0   \n",
       "2016-09-19-0-40 1           0                 2.8         22.2          76.0   \n",
       "2016-09-19-1-0  1           0                 2.8         22.2          76.0   \n",
       "2016-09-19-1-20 1           0                 2.8         22.2          76.0   \n",
       "\n",
       "                                       precipitation  count  direction  \\\n",
       "window_time     tollgate_id direction                                    \n",
       "2016-09-19-0-0  1           0                    0.0     13          0   \n",
       "2016-09-19-0-20 1           0                    0.0      6          0   \n",
       "2016-09-19-0-40 1           0                    0.0      9          0   \n",
       "2016-09-19-1-0  1           0                    0.0     10          0   \n",
       "2016-09-19-1-20 1           0                    0.0     14          0   \n",
       "\n",
       "                                       tollgate_id      window_time  weekday  \\\n",
       "window_time     tollgate_id direction                                          \n",
       "2016-09-19-0-0  1           0                    1   2016-09-19-0-0      1.0   \n",
       "2016-09-19-0-20 1           0                    1  2016-09-19-0-20      1.0   \n",
       "2016-09-19-0-40 1           0                    1  2016-09-19-0-40      1.0   \n",
       "2016-09-19-1-0  1           0                    1   2016-09-19-1-0      1.0   \n",
       "2016-09-19-1-20 1           0                    1  2016-09-19-1-20      1.0   \n",
       "\n",
       "                                       rounded_min  is_rounded_min_0.0  \\\n",
       "window_time     tollgate_id direction                                    \n",
       "2016-09-19-0-0  1           0                  0.0                   1   \n",
       "2016-09-19-0-20 1           0                 20.0                   0   \n",
       "2016-09-19-0-40 1           0                 40.0                   0   \n",
       "2016-09-19-1-0  1           0                  0.0                   1   \n",
       "2016-09-19-1-20 1           0                 20.0                   0   \n",
       "\n",
       "                                       is_rounded_min_20.0  \\\n",
       "window_time     tollgate_id direction                        \n",
       "2016-09-19-0-0  1           0                            0   \n",
       "2016-09-19-0-20 1           0                            1   \n",
       "2016-09-19-0-40 1           0                            0   \n",
       "2016-09-19-1-0  1           0                            0   \n",
       "2016-09-19-1-20 1           0                            1   \n",
       "\n",
       "                                       is_rounded_min_40.0  is_hour_0.0  \\\n",
       "window_time     tollgate_id direction                                     \n",
       "2016-09-19-0-0  1           0                            0            1   \n",
       "2016-09-19-0-20 1           0                            0            1   \n",
       "2016-09-19-0-40 1           0                            1            1   \n",
       "2016-09-19-1-0  1           0                            0            0   \n",
       "2016-09-19-1-20 1           0                            0            0   \n",
       "\n",
       "                                       is_hour_1.0  is_hour_2.0  is_hour_3.0  \\\n",
       "window_time     tollgate_id direction                                          \n",
       "2016-09-19-0-0  1           0                    0            0            0   \n",
       "2016-09-19-0-20 1           0                    0            0            0   \n",
       "2016-09-19-0-40 1           0                    0            0            0   \n",
       "2016-09-19-1-0  1           0                    1            0            0   \n",
       "2016-09-19-1-20 1           0                    1            0            0   \n",
       "\n",
       "                                       is_hour_4.0  is_hour_5.0  is_hour_6.0  \\\n",
       "window_time     tollgate_id direction                                          \n",
       "2016-09-19-0-0  1           0                    0            0            0   \n",
       "2016-09-19-0-20 1           0                    0            0            0   \n",
       "2016-09-19-0-40 1           0                    0            0            0   \n",
       "2016-09-19-1-0  1           0                    0            0            0   \n",
       "2016-09-19-1-20 1           0                    0            0            0   \n",
       "\n",
       "                                       is_hour_7.0  is_hour_8.0  is_hour_9.0  \\\n",
       "window_time     tollgate_id direction                                          \n",
       "2016-09-19-0-0  1           0                    0            0            0   \n",
       "2016-09-19-0-20 1           0                    0            0            0   \n",
       "2016-09-19-0-40 1           0                    0            0            0   \n",
       "2016-09-19-1-0  1           0                    0            0            0   \n",
       "2016-09-19-1-20 1           0                    0            0            0   \n",
       "\n",
       "                                       is_hour_10.0  is_hour_11.0  \\\n",
       "window_time     tollgate_id direction                               \n",
       "2016-09-19-0-0  1           0                     0             0   \n",
       "2016-09-19-0-20 1           0                     0             0   \n",
       "2016-09-19-0-40 1           0                     0             0   \n",
       "2016-09-19-1-0  1           0                     0             0   \n",
       "2016-09-19-1-20 1           0                     0             0   \n",
       "\n",
       "                                       is_hour_12.0  is_hour_13.0  \\\n",
       "window_time     tollgate_id direction                               \n",
       "2016-09-19-0-0  1           0                     0             0   \n",
       "2016-09-19-0-20 1           0                     0             0   \n",
       "2016-09-19-0-40 1           0                     0             0   \n",
       "2016-09-19-1-0  1           0                     0             0   \n",
       "2016-09-19-1-20 1           0                     0             0   \n",
       "\n",
       "                                       is_hour_14.0  is_hour_15.0  \\\n",
       "window_time     tollgate_id direction                               \n",
       "2016-09-19-0-0  1           0                     0             0   \n",
       "2016-09-19-0-20 1           0                     0             0   \n",
       "2016-09-19-0-40 1           0                     0             0   \n",
       "2016-09-19-1-0  1           0                     0             0   \n",
       "2016-09-19-1-20 1           0                     0             0   \n",
       "\n",
       "                                       is_hour_16.0  is_hour_17.0  \\\n",
       "window_time     tollgate_id direction                               \n",
       "2016-09-19-0-0  1           0                     0             0   \n",
       "2016-09-19-0-20 1           0                     0             0   \n",
       "2016-09-19-0-40 1           0                     0             0   \n",
       "2016-09-19-1-0  1           0                     0             0   \n",
       "2016-09-19-1-20 1           0                     0             0   \n",
       "\n",
       "                                       is_hour_18.0  is_hour_19.0  \\\n",
       "window_time     tollgate_id direction                               \n",
       "2016-09-19-0-0  1           0                     0             0   \n",
       "2016-09-19-0-20 1           0                     0             0   \n",
       "2016-09-19-0-40 1           0                     0             0   \n",
       "2016-09-19-1-0  1           0                     0             0   \n",
       "2016-09-19-1-20 1           0                     0             0   \n",
       "\n",
       "                                       is_hour_20.0  is_hour_21.0  \\\n",
       "window_time     tollgate_id direction                               \n",
       "2016-09-19-0-0  1           0                     0             0   \n",
       "2016-09-19-0-20 1           0                     0             0   \n",
       "2016-09-19-0-40 1           0                     0             0   \n",
       "2016-09-19-1-0  1           0                     0             0   \n",
       "2016-09-19-1-20 1           0                     0             0   \n",
       "\n",
       "                                       is_hour_22.0  is_hour_23.0  \\\n",
       "window_time     tollgate_id direction                               \n",
       "2016-09-19-0-0  1           0                     0             0   \n",
       "2016-09-19-0-20 1           0                     0             0   \n",
       "2016-09-19-0-40 1           0                     0             0   \n",
       "2016-09-19-1-0  1           0                     0             0   \n",
       "2016-09-19-1-20 1           0                     0             0   \n",
       "\n",
       "                                       is_tollgate_id_1  is_tollgate_id_2  \\\n",
       "window_time     tollgate_id direction                                       \n",
       "2016-09-19-0-0  1           0                         1                 0   \n",
       "2016-09-19-0-20 1           0                         1                 0   \n",
       "2016-09-19-0-40 1           0                         1                 0   \n",
       "2016-09-19-1-0  1           0                         1                 0   \n",
       "2016-09-19-1-20 1           0                         1                 0   \n",
       "\n",
       "                                       is_tollgate_id_3  is_direction_0  \\\n",
       "window_time     tollgate_id direction                                     \n",
       "2016-09-19-0-0  1           0                         0               1   \n",
       "2016-09-19-0-20 1           0                         0               1   \n",
       "2016-09-19-0-40 1           0                         0               1   \n",
       "2016-09-19-1-0  1           0                         0               1   \n",
       "2016-09-19-1-20 1           0                         0               1   \n",
       "\n",
       "                                       is_direction_1  is_weekday_0.0  \\\n",
       "window_time     tollgate_id direction                                   \n",
       "2016-09-19-0-0  1           0                       0               0   \n",
       "2016-09-19-0-20 1           0                       0               0   \n",
       "2016-09-19-0-40 1           0                       0               0   \n",
       "2016-09-19-1-0  1           0                       0               0   \n",
       "2016-09-19-1-20 1           0                       0               0   \n",
       "\n",
       "                                       is_weekday_1.0  is_weekday_2.0  \\\n",
       "window_time     tollgate_id direction                                   \n",
       "2016-09-19-0-0  1           0                       1               0   \n",
       "2016-09-19-0-20 1           0                       1               0   \n",
       "2016-09-19-0-40 1           0                       1               0   \n",
       "2016-09-19-1-0  1           0                       1               0   \n",
       "2016-09-19-1-20 1           0                       1               0   \n",
       "\n",
       "                                       is_weekday_3.0  is_weekday_4.0  \\\n",
       "window_time     tollgate_id direction                                   \n",
       "2016-09-19-0-0  1           0                       0               0   \n",
       "2016-09-19-0-20 1           0                       0               0   \n",
       "2016-09-19-0-40 1           0                       0               0   \n",
       "2016-09-19-1-0  1           0                       0               0   \n",
       "2016-09-19-1-20 1           0                       0               0   \n",
       "\n",
       "                                       is_weekday_5.0  is_weekday_6.0  \\\n",
       "window_time     tollgate_id direction                                   \n",
       "2016-09-19-0-0  1           0                       0               0   \n",
       "2016-09-19-0-20 1           0                       0               0   \n",
       "2016-09-19-0-40 1           0                       0               0   \n",
       "2016-09-19-1-0  1           0                       0               0   \n",
       "2016-09-19-1-20 1           0                       0               0   \n",
       "\n",
       "                                       is_festival  is_working_day  \\\n",
       "window_time     tollgate_id direction                                \n",
       "2016-09-19-0-0  1           0                    0               1   \n",
       "2016-09-19-0-20 1           0                    0               1   \n",
       "2016-09-19-0-40 1           0                    0               1   \n",
       "2016-09-19-1-0  1           0                    0               1   \n",
       "2016-09-19-1-20 1           0                    0               1   \n",
       "\n",
       "                                       norm_pressure  norm_sea_pressure  \\\n",
       "window_time     tollgate_id direction                                     \n",
       "2016-09-19-0-0  1           0               0.337662           0.339744   \n",
       "2016-09-19-0-20 1           0               0.337662           0.339744   \n",
       "2016-09-19-0-40 1           0               0.337662           0.339744   \n",
       "2016-09-19-1-0  1           0               0.337662           0.339744   \n",
       "2016-09-19-1-20 1           0               0.337662           0.339744   \n",
       "\n",
       "                                       norm_wind_direction  norm_wind_speed  \\\n",
       "window_time     tollgate_id direction                                         \n",
       "2016-09-19-0-0  1           0                     0.913649         0.373333   \n",
       "2016-09-19-0-20 1           0                     0.913649         0.373333   \n",
       "2016-09-19-0-40 1           0                     0.913649         0.373333   \n",
       "2016-09-19-1-0  1           0                     0.913649         0.373333   \n",
       "2016-09-19-1-20 1           0                     0.913649         0.373333   \n",
       "\n",
       "                                       norm_temperature  norm_rel_humidity  \\\n",
       "window_time     tollgate_id direction                                        \n",
       "2016-09-19-0-0  1           0                  0.433155           0.607143   \n",
       "2016-09-19-0-20 1           0                  0.433155           0.607143   \n",
       "2016-09-19-0-40 1           0                  0.433155           0.607143   \n",
       "2016-09-19-1-0  1           0                  0.433155           0.607143   \n",
       "2016-09-19-1-20 1           0                  0.433155           0.607143   \n",
       "\n",
       "                                       norm_precipitation  \\\n",
       "window_time     tollgate_id direction                       \n",
       "2016-09-19-0-0  1           0                         0.0   \n",
       "2016-09-19-0-20 1           0                         0.0   \n",
       "2016-09-19-0-40 1           0                         0.0   \n",
       "2016-09-19-1-0  1           0                         0.0   \n",
       "2016-09-19-1-20 1           0                         0.0   \n",
       "\n",
       "                                      time_window_formatted  seq  \n",
       "window_time     tollgate_id direction                             \n",
       "2016-09-19-0-0  1           0           2016-09-19 00:00:00    0  \n",
       "2016-09-19-0-20 1           0           2016-09-19 00:00:20    1  \n",
       "2016-09-19-0-40 1           0           2016-09-19 00:00:40    2  \n",
       "2016-09-19-1-0  1           0           2016-09-19 00:01:00    3  \n",
       "2016-09-19-1-20 1           0           2016-09-19 00:01:20    4  "
      ]
     },
     "execution_count": 35,
     "metadata": {},
     "output_type": "execute_result"
    }
   ],
   "source": [
    "id1direc0.head()"
   ]
  },
  {
   "cell_type": "code",
   "execution_count": 36,
   "metadata": {
    "collapsed": false
   },
   "outputs": [
    {
     "name": "stdout",
     "output_type": "stream",
     "text": [
      "Object `vwgrouped.save` not found.\n"
     ]
    }
   ],
   "source": [
    "?vwgrouped.save"
   ]
  },
  {
   "cell_type": "code",
   "execution_count": 37,
   "metadata": {
    "collapsed": false
   },
   "outputs": [
    {
     "name": "stdout",
     "output_type": "stream",
     "text": [
      "Object `pd.save` not found.\n"
     ]
    }
   ],
   "source": [
    "?pd.save"
   ]
  },
  {
   "cell_type": "code",
   "execution_count": 38,
   "metadata": {
    "collapsed": true
   },
   "outputs": [],
   "source": [
    "?pd.DataFrame.to_csv"
   ]
  },
  {
   "cell_type": "code",
   "execution_count": 39,
   "metadata": {
    "collapsed": false
   },
   "outputs": [],
   "source": [
    "vwgrouped.to_csv(\"twenty_window_grouped.csv\")"
   ]
  },
  {
   "cell_type": "code",
   "execution_count": null,
   "metadata": {
    "collapsed": true
   },
   "outputs": [],
   "source": [
    "(volume, weather) = date_converter(volume, weather)\n",
    "# Convert 'wind_direction' outlier to 360\n",
    "weather.loc[weather['wind_direction'] > 360, 'wind_direction'] = 360\n",
    "volume_weather = build_merged_tables(volume, weather)\n",
    "vwgrouped = group_vw(volume_weather)\n",
    "vwgrouped = re_construct_data(vwgrouped)\n",
    "vwgrouped = feature_engineering(vwgrouped)\n",
    "trajectories = time_handler_traj(trajectories)\n",
    "gp_traj = group_traj(trajectories)\n",
    "(combi_in, combi_out) = create_combi(vwgrouped, gp_traj)\n",
    "combi_in.to_csv(\"combi_in.csv\")\n",
    "combi_out.to_csv(\"combi_out.csv\")"
   ]
  }
 ],
 "metadata": {
  "kernelspec": {
   "display_name": "Python 2",
   "language": "python",
   "name": "python2"
  },
  "language_info": {
   "codemirror_mode": {
    "name": "ipython",
    "version": 2
   },
   "file_extension": ".py",
   "mimetype": "text/x-python",
   "name": "python",
   "nbconvert_exporter": "python",
   "pygments_lexer": "ipython2",
   "version": "2.7.13"
  }
 },
 "nbformat": 4,
 "nbformat_minor": 0
}
