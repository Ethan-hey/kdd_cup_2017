{
 "cells": [
  {
   "cell_type": "code",
   "execution_count": 561,
   "metadata": {
    "collapsed": true
   },
   "outputs": [],
   "source": [
    "import pandas as pd\n",
    "import sklearn\n",
    "import numpy as np\n",
    "import matplotlib.pyplot as plt\n",
    "import datetime\n",
    "%matplotlib inline\n",
    "pd.set_option('display.max_columns', 500)\n",
    "\n",
    "import datetime\n",
    "\n",
    "from __future__ import division\n",
    "\n",
    "import seaborn as sns"
   ]
  },
  {
   "cell_type": "code",
   "execution_count": 587,
   "metadata": {
    "collapsed": false
   },
   "outputs": [],
   "source": [
    "def volume_time_converter(df, column='time', shift=False):\n",
    "    \n",
    "    # Initialize lists to store splitted information\n",
    "    date_list = []\n",
    "    month_list = []\n",
    "    day_list = []\n",
    "    hour_list = []\n",
    "    minute_list = []\n",
    "    rounded_min_list = []\n",
    "    rounded_hour_list = []\n",
    "    \n",
    "    def split_date(date):\n",
    "        \n",
    "        parts = date.split(\" \")\n",
    "        day_part = parts[0]\n",
    "        clock_part = parts[1]\n",
    "        \n",
    "        day_parts = day_part.split(\"-\")\n",
    "        month_list.append(day_parts[1])\n",
    "        day_list.append(day_parts[2])\n",
    "        \n",
    "        clock_parts = clock_part.split(':')\n",
    "        hour_list.append(clock_parts[0])\n",
    "        minute_list.append(clock_parts[1])\n",
    "        rounded_hour_list.append(int(clock_parts[0]) // 3 * 3)\n",
    "        rounded_min_list.append(int(clock_parts[1]) // 20 * 20)\n",
    "        \n",
    "        date_list.append(day_part)\n",
    "    \n",
    "    # split 'time' feature and store into list\n",
    "    for date in df[column]:\n",
    "        split_date(date)\n",
    "        \n",
    "    # Add arrays into the 'volume' df\n",
    "    df['month'] = np.array(month_list)\n",
    "    df['day'] = np.array(day_list)\n",
    "    df['hour'] = np.array(hour_list)\n",
    "    df['minute'] = np.array(minute_list)\n",
    "    df['date'] = np.array(date_list)\n",
    "    df['rounded_hour'] = np.array(rounded_hour_list)\n",
    "    df['rounded_min'] = np.array(rounded_min_list)\n",
    "    \n",
    "    # Add an colume which combine 'date' and 'rounded_hour'\n",
    "    slash_list = np.array(['-'] * len(df['date']))\n",
    "    df['date_and_rounded_hour'] = df['date'].astype(str) + slash_list + df['rounded_hour'].astype(str)\n",
    "    \n",
    "    df['window_time'] = df['date'].astype(str) + slash_list + df['hour'].astype(str) + slash_list + \\\n",
    "                            df['rounded_min'].astype(str)\n",
    "        \n",
    "    df['window_time_formatted'] = df['window_time'].apply(\n",
    "            lambda t : datetime.datetime.strptime(t, '%Y-%m-%d-%H-%M'))\n",
    "    \n",
    "    # Shift time by 7 days(for submission sample data only)\n",
    "    if shift:\n",
    "        df['window_time_formatted'] = df['window_time_formatted'].apply(\n",
    "            lambda t : (t + datetime.timedelta(days=7)))\n",
    "        df['date'] = df['window_time_formatted'].apply(lambda t : t.date().strftime('%Y-%m-%d'))\n",
    "        df['date_and_rounded_hour'] = df['date'].astype(str) + slash_list + df['rounded_hour'].astype(str)\n",
    "        \n",
    "    \n",
    "    return df"
   ]
  },
  {
   "cell_type": "code",
   "execution_count": 588,
   "metadata": {
    "collapsed": true
   },
   "outputs": [],
   "source": [
    "def weather_time_converter(df):\n",
    "    \n",
    "    slash_list = np.array(['-'] * len(df))\n",
    "    df['date_and_rounded_hour'] = df['date'] + slash_list + df['hour'].astype(str)\n",
    "    \n",
    "    df['rounded_min'] = np.array([0] * len(df))\n",
    "    \n",
    "    df['window_time'] = df['date'].astype(str) + slash_list + df['hour'].astype(str) + slash_list + \\\n",
    "                            df['rounded_min'].astype(str)\n",
    "    \n",
    "    return df"
   ]
  },
  {
   "cell_type": "code",
   "execution_count": 589,
   "metadata": {
    "collapsed": true
   },
   "outputs": [],
   "source": [
    "def traj_time_converter(df):\n",
    "    \n",
    "    # Initialize 'direction' as 0\n",
    "    df['direction'] = np.array([0] * len(df))\n",
    "    \n",
    "    # Drop milesecond and reformat second\n",
    "    df['travel_time'] = (df['travel_time'] // 1 * 1).astype(int)\n",
    "    \n",
    "    # Reformat 'starting_time'\n",
    "    df['starting_time_formatted'] = df['starting_time'].apply(\n",
    "        lambda t : datetime.datetime.strptime(t, '%Y-%m-%d %H:%M:%S'))\n",
    "    \n",
    "    # Reformat 'travel_time'\n",
    "    df['travel_time_formatted'] = df['travel_time'].apply(lambda s : datetime.timedelta(seconds=s))\n",
    "    \n",
    "    # Add 'end_time' \n",
    "    df['end_time_formatted'] = (df['starting_time_formatted'] + df['travel_time_formatted'])\n",
    "\n",
    "    # Create time features\n",
    "    year_list = df['end_time_formatted'].apply(lambda t : t.year).astype(str)\n",
    "    month_list = df['end_time_formatted'].apply(lambda t : t.month).astype(str)\n",
    "    day_list = df['end_time_formatted'].apply(lambda t : t.day).astype(str)\n",
    "    hour_list = df['end_time_formatted'].apply(lambda t : t.hour).astype(str)\n",
    "    min_list = df['end_time_formatted'].apply(lambda t : t.minute).astype(str)\n",
    "    rounded_hour_list = hour_list.astype(int).apply(lambda t : t // 3 * 3).astype(str)\n",
    "    rounded_min_list = min_list.astype(int).apply(lambda t : t // 20 * 20).astype(str)\n",
    "    slash_list = np.array(['-'] * len(df))\n",
    "    \n",
    "    df['year'] = year_list\n",
    "    df['month'] = month_list\n",
    "    df['day'] = day_list\n",
    "    df['hour'] = hour_list\n",
    "    df['min'] = min_list\n",
    "    df['rounded_hour'] = rounded_hour_list\n",
    "    df['rounded_min'] = rounded_min_list\n",
    "    \n",
    "\n",
    "    # Create 'window_time'\n",
    "    df['window_time'] = year_list + slash_list + month_list + slash_list \\\n",
    "            + day_list + slash_list + hour_list + slash_list + rounded_min_list\n",
    "        \n",
    "    df['window_time_formatted'] = df['window_time'].apply(\n",
    "            lambda t : datetime.datetime.strptime(t, '%Y-%m-%d-%H-%M'))\n",
    "    \n",
    "    df['date_and_rounded_hour'] = year_list + slash_list + month_list + slash_list \\\n",
    "            + day_list + slash_list + rounded_hour_list\n",
    "    \n",
    "    # Shift window_time by 2 hours here(as only last 2 hours data are provided in test set)\n",
    "    df['window_time_formatted'] = df['window_time_formatted'].apply(\n",
    "            lambda t : (t + datetime.timedelta(hours=2)))\n",
    "\n",
    "    return df"
   ]
  },
  {
   "cell_type": "markdown",
   "metadata": {},
   "source": [
    "## Merge and group data"
   ]
  },
  {
   "cell_type": "code",
   "execution_count": 592,
   "metadata": {
    "collapsed": true
   },
   "outputs": [],
   "source": [
    "# Merge volume and weather \n",
    "def group_vol_wea(volume, weather):\n",
    "    \n",
    "    df = pd.merge(volume, weather, on='date_and_rounded_hour', suffixes=('', '_y'), how='left')\n",
    "    \n",
    "    df = df.groupby(['window_time_formatted', 'tollgate_id', 'direction'])\n",
    "    \n",
    "    df_gp = df.agg('mean').join(pd.DataFrame(df.size(), columns=['count']))\n",
    "    \n",
    "    # Put index as column\n",
    "    df_gp['direction'] = df_gp.index.get_level_values('direction')\n",
    "    df_gp['tollgate_id'] = df_gp.index.get_level_values('tollgate_id')\n",
    "    df_gp['window_time_formatted'] = df_gp.index.get_level_values('window_time_formatted')\n",
    "    \n",
    "    return df_gp"
   ]
  },
  {
   "cell_type": "code",
   "execution_count": 594,
   "metadata": {
    "collapsed": true
   },
   "outputs": [],
   "source": [
    "def group_traj(df):\n",
    "    \n",
    "    df = df.groupby(['window_time_formatted', 'tollgate_id', 'direction'])\n",
    "    df_gp = df.agg('mean').join(pd.DataFrame(df.size(), columns=['count']))\n",
    "    \n",
    "    # Put index as column\n",
    "    df_gp['direction'] = df_gp.index.get_level_values('direction')\n",
    "    df_gp['tollgate_id'] = df_gp.index.get_level_values('tollgate_id')\n",
    "    df_gp['window_time_formatted'] = df_gp.index.get_level_values('window_time_formatted')\n",
    "    \n",
    "    return df_gp"
   ]
  },
  {
   "cell_type": "code",
   "execution_count": 596,
   "metadata": {
    "collapsed": true
   },
   "outputs": [],
   "source": [
    "# Merge volume_weather and trajectories\n",
    "def merge_vwt(vw_gp, t_gp):\n",
    "    \n",
    "    vwt = pd.merge(vw_gp, t_gp, on=['window_time_formatted', 'tollgate_id', 'direction'], suffixes=('', '_y'), how='left')\n",
    "    \n",
    "    # Drop useless columns\n",
    "    drop_columns = ['vehicle_id', 'vehicle_model', 'vehicle_type', 'hour_y', 'rounded_min_y', 'has_etc']\n",
    "    for col in drop_columns:\n",
    "        if col in vwt.columns:\n",
    "            vwt.drop([col], axis=1, inplace=True)\n",
    "            \n",
    "    vwt.rename(columns={'count_y':'traj_count'}, inplace=True)\n",
    "    \n",
    "    return vwt"
   ]
  },
  {
   "cell_type": "markdown",
   "metadata": {},
   "source": [
    "## Create new features"
   ]
  },
  {
   "cell_type": "code",
   "execution_count": 598,
   "metadata": {
    "collapsed": true
   },
   "outputs": [],
   "source": [
    "# Add features: 'weekday', 'is_festival', 'is_working_day'\n",
    "def add_features(vwt):\n",
    "    \n",
    "    vwt['month'] = vwt['window_time_formatted'].apply(lambda t : t.month)\n",
    "    vwt['day'] = vwt['window_time_formatted'].apply(lambda t : t.day)\n",
    "    \n",
    "    # Create 'weekday' column in DateFrame(0 stands for Sunday; 1 stands for Monday and 2 stands for Tuesday, etc...)\n",
    "    if (9 in list(vwt['month'].unique())):\n",
    "        sept = vwt[vwt['month'] == 9]\n",
    "        weekday1 = ((sept['day'] + 3) % 7).values\n",
    "        octo = vwt[vwt['month'] == 10]\n",
    "        weekday2 = ((octo['day'] + 5) % 7).values\n",
    "        vwt['weekday'] = np.append(weekday1, weekday2)\n",
    "    else:\n",
    "        weekday2 = ((vwt['day'] + 5) % 7).values\n",
    "        vwt['weekday'] = np.array(weekday2)\n",
    "        \n",
    "    # Create 'is_festival' column\n",
    "    vwt['is_festival'] = np.array([0] * len(vwt))\n",
    "    sep_days = [15, 16, 17, 30]\n",
    "    oct_days = [1, 2, 3, 4, 5, 6, 7, 8]\n",
    "    if (9 in list(vwt['month'].unique())):\n",
    "        for day in sep_days:\n",
    "            vwt.loc[((vwt['month'] == 9) & (vwt['day'] == day)), 'is_festival'] = 1\n",
    "    for day in oct_days:\n",
    "        vwt.loc[((vwt['month'] == 10) & (vwt['day'] == day)), 'is_festival'] = 1\n",
    "        \n",
    "    # Construct 'is_working_day' column\n",
    "    vwt['is_working_day'] = np.array([0] * len(vwt))\n",
    "    vwt.loc[((vwt['weekday'] < 5) & (vwt['weekday'] > 0)), 'is_working_day'] = 1\n",
    "    vwt.loc[vwt['is_festival'] == 1, 'is_working_day'] = 0\n",
    "    vwt.loc[((vwt['month'] == 9) & (vwt['day'] == 18)), 'is_working_day'] = 1\n",
    "    vwt.loc[((vwt['month'] == 10)\n",
    "                        & ((vwt['day'] == 8) | (vwt['day'] == 9))), 'is_working_day'] = 1\n",
    "    \n",
    "    return vwt"
   ]
  },
  {
   "cell_type": "markdown",
   "metadata": {},
   "source": [
    "## Fill NA"
   ]
  },
  {
   "cell_type": "markdown",
   "metadata": {},
   "source": [
    "#### more needs to be done. 'travel_time' nas are not supposed to filled with meadian"
   ]
  },
  {
   "cell_type": "code",
   "execution_count": 606,
   "metadata": {
    "collapsed": true
   },
   "outputs": [],
   "source": [
    "def fill_na(vwt):\n",
    "    \n",
    "#     weather_features = ['pressure', 'sea_pressure', 'wind_direction', 'wind_speed', 'temperature', 'rel_humidity', 'precipitation']\n",
    "#     for fea in weather_features:\n",
    "#         vwt[fea] = vwt.groupby(\"rounded_hour\").transform(lambda x: x.fillna(x.mean()))\n",
    "        \n",
    "    vwt = vwt.fillna(vwt[:vwt.shape[0]].mean())\n",
    "    \n",
    "#     vwt_out = vwt[vwt['direction'] == 1]\n",
    "#     vwt_in = vwt[vwt['direction'] == 0]\n",
    "    \n",
    "#     vwt_out.drop(['travel_time', 'traj_count'], axis=1, inplace=True)\n",
    "\n",
    "    return vwt"
   ]
  },
  {
   "cell_type": "markdown",
   "metadata": {},
   "source": [
    "## Create dummy"
   ]
  },
  {
   "cell_type": "code",
   "execution_count": 608,
   "metadata": {
    "collapsed": true
   },
   "outputs": [],
   "source": [
    "def create_dummy(vwt):\n",
    "    \n",
    "    vwt['hour'] = vwt['window_time_formatted'].apply(lambda t : t.hour)\n",
    "    \n",
    "    # Split numerical data\n",
    "    vwt['wind_direction'] = vwt['wind_direction'] // 15 * 15\n",
    "    vwt['precipitation'] = vwt['precipitation'] // 1 * 1\n",
    "    vwt['wind_speed'] = vwt['wind_speed'] // 1 * 1\n",
    "    vwt['temperature'] = vwt['temperature'] // 2 * 2\n",
    "    vwt['rel_humidity'] = vwt['rel_humidity'] // 10 * 10\n",
    "    \n",
    "    day_list = vwt['day']\n",
    "    hour_list = vwt['hour']\n",
    "    weekday_list = vwt['weekday']\n",
    "    \n",
    "    # Create dummies\n",
    "    vwt = pd.get_dummies(data=vwt, columns=['weekday', 'hour', 'rounded_min', 'wind_direction',\n",
    "                                                        'wind_speed', 'temperature', 'rel_humidity', 'precipitation'])\n",
    "    vwt['day'] = day_list\n",
    "    vwt['hour'] = hour_list\n",
    "    vwt['weekday'] = weekday_list\n",
    "    \n",
    "    return vwt"
   ]
  },
  {
   "cell_type": "markdown",
   "metadata": {},
   "source": [
    "## Create feature 'history average'"
   ]
  },
  {
   "cell_type": "code",
   "execution_count": 611,
   "metadata": {
    "collapsed": true
   },
   "outputs": [],
   "source": [
    "def create_his_ave(df):\n",
    "\n",
    "    df = df[df['is_festival'] == 0]\n",
    "    \n",
    "    df['time'] = df['window_time_formatted'].apply(lambda t : t.time())\n",
    "    df_his = df.groupby(['time', 'tollgate_id', 'direction', 'weekday']).agg('mean')\n",
    "    df_his.rename(columns={'count':'his_ave'}, inplace=True)\n",
    "    \n",
    "    df_his['direction'] = df_his.index.get_level_values('direction')\n",
    "    df_his['tollgate_id'] = df_his.index.get_level_values('tollgate_id')\n",
    "    df_his['time'] = df_his.index.get_level_values('time')\n",
    "    df_his['weekday'] = df_his.index.get_level_values('weekday')\n",
    "\n",
    "    \n",
    "    return df_his[['time', 'tollgate_id', 'direction', 'his_ave', 'weekday']]"
   ]
  },
  {
   "cell_type": "markdown",
   "metadata": {},
   "source": [
    "## Add feature 'his_ave'"
   ]
  },
  {
   "cell_type": "code",
   "execution_count": 613,
   "metadata": {
    "collapsed": true
   },
   "outputs": [],
   "source": [
    "def add_his_ave(df, vwt_his):\n",
    "    \n",
    "    df['time'] = df['window_time_formatted'].apply(lambda t : t.time())\n",
    "    df = pd.merge(df, vwt_his, on=['time', 'tollgate_id', 'direction', 'weekday'], suffixes=('', '_y'), how='left' )\n",
    "    \n",
    "    return df"
   ]
  },
  {
   "cell_type": "markdown",
   "metadata": {},
   "source": [
    "## Add 6 shifted time slot"
   ]
  },
  {
   "cell_type": "code",
   "execution_count": 785,
   "metadata": {
    "collapsed": true
   },
   "outputs": [],
   "source": [
    "# Create shifted time windows\n",
    "# eg: for window_time: '2016-9-18-8-20': \n",
    "#                      'ft_1': '2016-9-18-6-0'; 'ft_2': '2016-9-18-6-20'; 'ft_3': '2016-9-18-6-40'; \n",
    "#                      'ft_4': '2016-9-18-7-0'; 'ft_5': '2016-9-18-7-20'; 'ft_6': '2016-9-18-7-40'. \n",
    "# Note that '2016-9-18-8-0', '2016-9-18-8-20', '2016-9-18-8-40', '2016-9-18-9-0', '2016-9-18-9-20', '2016-9-18-9-40' share the\n",
    "# same 'ft_1' to 'ft_6' \n",
    "def create_shifted_time(df):\n",
    "\n",
    "    df['fake_hour'] = np.array([0] * len(df)).astype(str)\n",
    "    df.loc[(df['hour'] == 8) | (df['hour'] ==9), 'fake_hour'] = str(6)\n",
    "    df.loc[(df['hour'] == 17) | (df['hour'] == 18), 'fake_hour'] = str(15)\n",
    "    df['fake_hour+1'] = (df['fake_hour'].astype(int) + 1).astype(str)\n",
    "\n",
    "    df['year'] = df['window_time_formatted'].apply(lambda t : t.year).astype(str)\n",
    "    df['month'] = df['window_time_formatted'].apply(lambda t : t.month).astype(str)\n",
    "    df['day'] = df['window_time_formatted'].apply(lambda t : t.day).astype(str)\n",
    "\n",
    "    features = ['ft_1', 'ft_2', 'ft_3', 'ft_4', 'ft_5', 'ft_6']\n",
    "    slash = np.array(['-'] * len(df))\n",
    "    df['ft_1'] = df['year'] + slash + df['month'] + slash + df['day'] + slash + df['fake_hour'] \\\n",
    "                        + slash + np.array([0] * len(df)).astype(str)\n",
    "    df['ft_2'] = df['year'] + slash + df['month'] + slash + df['day'] + slash + df['fake_hour'] \\\n",
    "                        + slash + np.array([20] * len(df)).astype(str)\n",
    "    df['ft_3'] = df['year'] + slash + df['month'] + slash + df['day'] + slash + df['fake_hour'] \\\n",
    "                        + slash + np.array([40] * len(df)).astype(str)\n",
    "    df['ft_4'] = df['year'] + slash + df['month'] + slash + df['day'] + slash + df['fake_hour+1'] \\\n",
    "                        + slash + np.array([0] * len(df)).astype(str)\n",
    "    df['ft_5'] = df['year'] + slash + df['month'] + slash + df['day'] + slash + df['fake_hour+1'] \\\n",
    "                        + slash + np.array([20] * len(df)).astype(str)\n",
    "    df['ft_6'] = df['year'] + slash + df['month'] + slash + df['day'] + slash + df['fake_hour+1'] \\\n",
    "                        + slash + np.array([40] * len(df)).astype(str)\n",
    "\n",
    "    for feature in features:\n",
    "        df[feature] = df[feature].apply(lambda t : datetime.datetime.strptime(t, '%Y-%m-%d-%H-%M')).tolist()\n",
    "            \n",
    "    return df"
   ]
  },
  {
   "cell_type": "code",
   "execution_count": 786,
   "metadata": {
    "collapsed": true
   },
   "outputs": [],
   "source": [
    "# Add 'count' feature for each of the 'ft_x' column\n",
    "def create_prev_count(df):\n",
    "    \n",
    "    mers = []\n",
    "    ons = ['ft_1', 'ft_2', 'ft_3', 'ft_4', 'ft_5', 'ft_6']\n",
    "    \n",
    "    early = df[df['hour'].isin([6, 7, 15, 16])]\n",
    "    late = df[df['hour'].isin([8, 9, 17, 18])]\n",
    "    mer = late.copy()\n",
    "        \n",
    "    for i in range(6):\n",
    "        \n",
    "        late = late.merge(early[['window_time_formatted', 'count', 'direction', 'tollgate_id']],\n",
    "                  left_on=[ons[i], 'direction', 'tollgate_id'],\n",
    "                  right_on=['window_time_formatted', 'direction', 'tollgate_id'],\n",
    "                  suffixes=('', \"_\"+ons[i])).drop(['window_time_formatted_' + ons[i]], axis=1)\n",
    "\n",
    "    late['preCount_total'] = late['count_ft_1'] + late['count_ft_2'] + late['count_ft_3'] + \\\n",
    "                                    late['count_ft_4'] + late['count_ft_5'] + late['count_ft_6']\n",
    "    late['preCount_total'] = late['preCount_total'] / 6\n",
    "    \n",
    "    return late"
   ]
  },
  {
   "cell_type": "markdown",
   "metadata": {},
   "source": [
    "# Prepare training data"
   ]
  },
  {
   "cell_type": "code",
   "execution_count": 787,
   "metadata": {
    "collapsed": true
   },
   "outputs": [],
   "source": [
    "links = pd.read_csv('training/links (table 3).csv')\n",
    "routes = pd.read_csv('training/routes (table 4).csv')\n",
    "trajectories = pd.read_csv('training/trajectories(table 5)_training.csv')\n",
    "volume = pd.read_csv('training/volume(table 6)_training.csv')\n",
    "weather = pd.read_csv('training/weather (table 7)_training.csv')\n",
    "\n",
    "volume_late = pd.read_csv('dataSet_phase2/volume(table 6)_training2.csv')\n",
    "trajectories_late = pd.read_csv('dataSet_phase2/trajectories(table_5)_training2.csv')\n",
    "weather_late = pd.read_csv('dataSet_phase2/weather (table 7)_2.csv')\n",
    "\n",
    "volume_late.rename(columns={'tollgate':'tollgate_id', 'date_time':'time',\n",
    "                            'is_etc':'has_etc', 'model':'vehicle_model'}, inplace=True)"
   ]
  },
  {
   "cell_type": "code",
   "execution_count": 788,
   "metadata": {
    "collapsed": false
   },
   "outputs": [],
   "source": [
    "volume = pd.concat([volume, volume_late])\n",
    "weather = pd.concat([weather, weather_late])\n",
    "trajectories = pd.concat([trajectories, trajectories_late])\n",
    "\n",
    "# Convert 'wind_direction' outlier to 360\n",
    "weather.loc[weather['wind_direction'] > 360, 'wind_direction'] = 360"
   ]
  },
  {
   "cell_type": "code",
   "execution_count": 789,
   "metadata": {
    "collapsed": false
   },
   "outputs": [
    {
     "name": "stderr",
     "output_type": "stream",
     "text": [
      "C:\\Users\\THINKPAD\\Anaconda2\\lib\\site-packages\\ipykernel\\__main__.py:5: SettingWithCopyWarning: \n",
      "A value is trying to be set on a copy of a slice from a DataFrame.\n",
      "Try using .loc[row_indexer,col_indexer] = value instead\n",
      "\n",
      "See the caveats in the documentation: http://pandas.pydata.org/pandas-docs/stable/indexing.html#indexing-view-versus-copy\n"
     ]
    }
   ],
   "source": [
    "v = volume.copy()\n",
    "t = trajectories.copy()\n",
    "w = weather.copy()\n",
    "\n",
    "v = volume_time_converter(v)\n",
    "t = traj_time_converter(t)\n",
    "w = weather_time_converter(w)\n",
    "\n",
    "vw_gp = group_vol_wea(v, w)\n",
    "t_gp = group_traj(t)\n",
    "vwt = merge_vwt(vw_gp, t_gp)\n",
    "\n",
    "vwt = add_features(vwt)\n",
    "vwt = fill_na(vwt)\n",
    "vwt = create_dummy(vwt)\n",
    "vwt_his = create_his_ave(vwt)\n",
    "vwt = add_his_ave(vwt, vwt_his)\n",
    "vwt = create_shifted_time(vwt)\n",
    "vwt = create_prev_count(vwt)\n",
    "# vwt = vwt[vwt['hour'].isin([8, 9, 17, 18])]"
   ]
  },
  {
   "cell_type": "markdown",
   "metadata": {},
   "source": [
    "# Prepare submission data"
   ]
  },
  {
   "cell_type": "code",
   "execution_count": 820,
   "metadata": {
    "collapsed": true
   },
   "outputs": [],
   "source": [
    "def shift_time_7_days(df):\n",
    "    df['time'] = df['time'].apply(lambda t : datetime.datetime.strptime(t, '%Y-%m-%d %H:%M:%S'))\n",
    "\n",
    "    df['time'] = df['time'].apply(lambda t : t + datetime.timedelta(days=7))\n",
    "\n",
    "    df['time'] = df['time'].apply(lambda t : t.strftime('%Y-%m-%d %H:%M:%S'))\n",
    "    \n",
    "    return df"
   ]
  },
  {
   "cell_type": "code",
   "execution_count": null,
   "metadata": {
    "collapsed": true
   },
   "outputs": [],
   "source": []
  },
  {
   "cell_type": "code",
   "execution_count": null,
   "metadata": {
    "collapsed": true
   },
   "outputs": [],
   "source": []
  },
  {
   "cell_type": "code",
   "execution_count": 833,
   "metadata": {
    "collapsed": true
   },
   "outputs": [],
   "source": [
    "sub_volume = pd.read_csv('submission_sample_volume.csv')\n",
    "\n",
    "sub_weather = pd.read_csv('dataSet_phase2/weather (table 7)_2.csv')\n",
    "\n",
    "sub_trajectories = pd.read_csv('dataSet_phase2/trajectories(table 5)_test2.csv')"
   ]
  },
  {
   "cell_type": "code",
   "execution_count": 834,
   "metadata": {
    "collapsed": true
   },
   "outputs": [],
   "source": [
    "volume_test = pd.read_csv('dataSet_phase2/volume(table 6)_test2.csv')"
   ]
  },
  {
   "cell_type": "code",
   "execution_count": 835,
   "metadata": {
    "collapsed": false
   },
   "outputs": [],
   "source": [
    "sub_volume['time'] = sub_volume['time_window'].apply(\n",
    "            lambda t : t.split(',')[0].split('[')[1])"
   ]
  },
  {
   "cell_type": "code",
   "execution_count": 836,
   "metadata": {
    "collapsed": true
   },
   "outputs": [],
   "source": [
    "sub_volume = shift_time_7_days(sub_volume)"
   ]
  },
  {
   "cell_type": "code",
   "execution_count": 837,
   "metadata": {
    "collapsed": true
   },
   "outputs": [],
   "source": [
    "volume_test.rename(columns={'tollgate':'tollgate_id', 'date_time':'time',\n",
    "                            'is_etc':'has_etc', 'model':'vehicle_model'}, inplace=True)"
   ]
  },
  {
   "cell_type": "code",
   "execution_count": 838,
   "metadata": {
    "collapsed": true
   },
   "outputs": [],
   "source": [
    "features = ['tollgate_id', 'direction', 'time']"
   ]
  },
  {
   "cell_type": "code",
   "execution_count": 839,
   "metadata": {
    "collapsed": false
   },
   "outputs": [],
   "source": [
    "sub_volume = pd.concat([volume_test[features], sub_volume[features]])"
   ]
  },
  {
   "cell_type": "code",
   "execution_count": 840,
   "metadata": {
    "collapsed": true
   },
   "outputs": [],
   "source": [
    "sub_v = sub_volume.copy()\n",
    "sub_w = sub_weather.copy()\n",
    "sub_t = sub_trajectories.copy()"
   ]
  },
  {
   "cell_type": "code",
   "execution_count": 841,
   "metadata": {
    "collapsed": false
   },
   "outputs": [],
   "source": [
    "sub_v = volume_time_converter(sub_v, column='time', shift=False)\n",
    "sub_v.rename(columns={'tollgate':'tollgate_id'}, inplace=True)\n",
    "sub_t = traj_time_converter(sub_t)\n",
    "sub_w = weather_time_converter(sub_w)\n",
    "sub_vw_gp = group_vol_wea(sub_v, sub_w)\n",
    "sub_t_gp = group_traj(sub_t)\n",
    "sub_vwt = merge_vwt(sub_vw_gp, sub_t_gp)\n",
    "sub_vwt = add_features(sub_vwt)\n",
    "sub_vwt = fill_na(sub_vwt)\n",
    "sub_vwt = create_dummy(sub_vwt)\n",
    "sub_vwt = add_his_ave(sub_vwt, vwt_his)\n",
    "sub_vwt = create_shifted_time(sub_vwt)\n",
    "sub_vwt = create_prev_count(sub_vwt)\n",
    "# sub_vwt = sub_vwt[sub_vwt['hour'].isin([8, 9, 17, 18])]"
   ]
  },
  {
   "cell_type": "markdown",
   "metadata": {},
   "source": [
    "# Save data"
   ]
  },
  {
   "cell_type": "code",
   "execution_count": 842,
   "metadata": {
    "collapsed": true
   },
   "outputs": [],
   "source": [
    "# vwt.to_csv('train_vwt.csv')\n",
    "# sub_vwt.to_csv('sub_vwt.csv')"
   ]
  },
  {
   "cell_type": "code",
   "execution_count": null,
   "metadata": {
    "collapsed": true
   },
   "outputs": [],
   "source": []
  },
  {
   "cell_type": "code",
   "execution_count": 628,
   "metadata": {
    "collapsed": true
   },
   "outputs": [],
   "source": [
    "df = vwt.copy()\n",
    "vwt_copy = vwt.copy()"
   ]
  },
  {
   "cell_type": "code",
   "execution_count": 629,
   "metadata": {
    "collapsed": true
   },
   "outputs": [],
   "source": [
    "features = ['traj_count', 'travel_time']"
   ]
  },
  {
   "cell_type": "code",
   "execution_count": 630,
   "metadata": {
    "collapsed": true
   },
   "outputs": [],
   "source": [
    "na_mask = df[features[0]].isnull()"
   ]
  },
  {
   "cell_type": "code",
   "execution_count": 631,
   "metadata": {
    "collapsed": true
   },
   "outputs": [],
   "source": [
    "df = df[~na_mask][['time', 'tollgate_id', 'direction', features[0]]]"
   ]
  },
  {
   "cell_type": "code",
   "execution_count": 632,
   "metadata": {
    "collapsed": false
   },
   "outputs": [],
   "source": [
    "df = df.groupby(['time', 'tollgate_id', 'direction']).agg('mean')"
   ]
  },
  {
   "cell_type": "code",
   "execution_count": 633,
   "metadata": {
    "collapsed": true
   },
   "outputs": [],
   "source": [
    "df['time'] = df.index.get_level_values('time')\n",
    "df['tollgate_id'] = df.index.get_level_values('tollgate_id')\n",
    "df['direction'] = df.index.get_level_values('direction')"
   ]
  },
  {
   "cell_type": "code",
   "execution_count": 634,
   "metadata": {
    "collapsed": false
   },
   "outputs": [],
   "source": [
    "vwt_copy = pd.merge(vwt_copy, df, on=['time', 'tollgate_id', 'direction', features[0]], suffixes=('', '_y'), how='left')"
   ]
  },
  {
   "cell_type": "code",
   "execution_count": 649,
   "metadata": {
    "collapsed": false,
    "scrolled": true
   },
   "outputs": [],
   "source": [
    "# vwt_copy[vwt_copy['direction'] == 0].isnull().sum()"
   ]
  },
  {
   "cell_type": "code",
   "execution_count": 650,
   "metadata": {
    "collapsed": false
   },
   "outputs": [],
   "source": [
    "# sub_vwtc[sub_vwtc['direction'] == 0].isnull().sum()"
   ]
  },
  {
   "cell_type": "code",
   "execution_count": null,
   "metadata": {
    "collapsed": true
   },
   "outputs": [],
   "source": []
  },
  {
   "cell_type": "code",
   "execution_count": 658,
   "metadata": {
    "collapsed": true
   },
   "outputs": [],
   "source": []
  },
  {
   "cell_type": "code",
   "execution_count": 660,
   "metadata": {
    "collapsed": true
   },
   "outputs": [],
   "source": [
    "vv = vwt.copy()"
   ]
  },
  {
   "cell_type": "code",
   "execution_count": null,
   "metadata": {
    "collapsed": true
   },
   "outputs": [],
   "source": []
  },
  {
   "cell_type": "code",
   "execution_count": 662,
   "metadata": {
    "collapsed": false
   },
   "outputs": [],
   "source": [
    "vv['date'] = vwt['window_time_formatted'].apply(lambda t : t.date())"
   ]
  },
  {
   "cell_type": "code",
   "execution_count": null,
   "metadata": {
    "collapsed": true
   },
   "outputs": [],
   "source": []
  },
  {
   "cell_type": "code",
   "execution_count": null,
   "metadata": {
    "collapsed": true
   },
   "outputs": [],
   "source": []
  },
  {
   "cell_type": "code",
   "execution_count": 880,
   "metadata": {
    "collapsed": true
   },
   "outputs": [],
   "source": [
    "offical = pd.read_csv('dataSet_phase2/volume(table 6)_training2.csv')"
   ]
  },
  {
   "cell_type": "code",
   "execution_count": 881,
   "metadata": {
    "collapsed": true
   },
   "outputs": [],
   "source": [
    "offical.rename(columns={'tollgate':'tollgate_id', 'date_time':'time',\n",
    "                            'is_etc':'has_etc', 'model':'vehicle_model'}, inplace=True)"
   ]
  },
  {
   "cell_type": "code",
   "execution_count": 882,
   "metadata": {
    "collapsed": true
   },
   "outputs": [],
   "source": [
    "# Merge volume and weather \n",
    "def group_vol(df):\n",
    "    \n",
    "    df = df.groupby(['window_time_formatted', 'tollgate_id', 'direction'])\n",
    "    \n",
    "    df_gp = df.agg('mean').join(pd.DataFrame(df.size(), columns=['count']))\n",
    "    \n",
    "    # Put index as column\n",
    "    df_gp['direction'] = df_gp.index.get_level_values('direction')\n",
    "    df_gp['tollgate_id'] = df_gp.index.get_level_values('tollgate_id')\n",
    "    df_gp['window_time_formatted'] = df_gp.index.get_level_values('window_time_formatted')\n",
    "    \n",
    "    return df_gp"
   ]
  },
  {
   "cell_type": "code",
   "execution_count": 883,
   "metadata": {
    "collapsed": true
   },
   "outputs": [],
   "source": [
    "offical = volume_time_converter(offical)"
   ]
  },
  {
   "cell_type": "code",
   "execution_count": 884,
   "metadata": {
    "collapsed": false
   },
   "outputs": [],
   "source": [
    "offical = group_vol(offical)"
   ]
  },
  {
   "cell_type": "code",
   "execution_count": 885,
   "metadata": {
    "collapsed": false
   },
   "outputs": [],
   "source": [
    "offical = offical[['window_time_formatted', 'tollgate_id', 'direction', 'count']]"
   ]
  },
  {
   "cell_type": "code",
   "execution_count": 886,
   "metadata": {
    "collapsed": false
   },
   "outputs": [
    {
     "data": {
      "text/plain": [
       "Timestamp('2016-10-18 00:00:00')"
      ]
     },
     "execution_count": 886,
     "metadata": {},
     "output_type": "execute_result"
    }
   ],
   "source": [
    "offical['window_time_formatted'][0]"
   ]
  },
  {
   "cell_type": "code",
   "execution_count": 889,
   "metadata": {
    "collapsed": true
   },
   "outputs": [],
   "source": [
    "offical['hour'] = offical['window_time_formatted'].apply(lambda t : t.hour)"
   ]
  },
  {
   "cell_type": "code",
   "execution_count": 890,
   "metadata": {
    "collapsed": true
   },
   "outputs": [],
   "source": [
    "offical = offical[offical['hour'].isin([8,9,17,18])]"
   ]
  },
  {
   "cell_type": "code",
   "execution_count": 891,
   "metadata": {
    "collapsed": false
   },
   "outputs": [
    {
     "data": {
      "text/html": [
       "<div>\n",
       "<table border=\"1\" class=\"dataframe\">\n",
       "  <thead>\n",
       "    <tr style=\"text-align: right;\">\n",
       "      <th></th>\n",
       "      <th></th>\n",
       "      <th></th>\n",
       "      <th>window_time_formatted</th>\n",
       "      <th>tollgate_id</th>\n",
       "      <th>direction</th>\n",
       "      <th>count</th>\n",
       "      <th>hour</th>\n",
       "    </tr>\n",
       "    <tr>\n",
       "      <th>window_time_formatted</th>\n",
       "      <th>tollgate_id</th>\n",
       "      <th>direction</th>\n",
       "      <th></th>\n",
       "      <th></th>\n",
       "      <th></th>\n",
       "      <th></th>\n",
       "      <th></th>\n",
       "    </tr>\n",
       "  </thead>\n",
       "  <tbody>\n",
       "    <tr>\n",
       "      <th rowspan=\"5\" valign=\"top\">2016-10-18 08:00:00</th>\n",
       "      <th rowspan=\"2\" valign=\"top\">1</th>\n",
       "      <th>0</th>\n",
       "      <td>2016-10-18 08:00:00</td>\n",
       "      <td>1</td>\n",
       "      <td>0</td>\n",
       "      <td>50</td>\n",
       "      <td>8</td>\n",
       "    </tr>\n",
       "    <tr>\n",
       "      <th>1</th>\n",
       "      <td>2016-10-18 08:00:00</td>\n",
       "      <td>1</td>\n",
       "      <td>1</td>\n",
       "      <td>93</td>\n",
       "      <td>8</td>\n",
       "    </tr>\n",
       "    <tr>\n",
       "      <th>2</th>\n",
       "      <th>0</th>\n",
       "      <td>2016-10-18 08:00:00</td>\n",
       "      <td>2</td>\n",
       "      <td>0</td>\n",
       "      <td>120</td>\n",
       "      <td>8</td>\n",
       "    </tr>\n",
       "    <tr>\n",
       "      <th rowspan=\"2\" valign=\"top\">3</th>\n",
       "      <th>0</th>\n",
       "      <td>2016-10-18 08:00:00</td>\n",
       "      <td>3</td>\n",
       "      <td>0</td>\n",
       "      <td>198</td>\n",
       "      <td>8</td>\n",
       "    </tr>\n",
       "    <tr>\n",
       "      <th>1</th>\n",
       "      <td>2016-10-18 08:00:00</td>\n",
       "      <td>3</td>\n",
       "      <td>1</td>\n",
       "      <td>119</td>\n",
       "      <td>8</td>\n",
       "    </tr>\n",
       "  </tbody>\n",
       "</table>\n",
       "</div>"
      ],
      "text/plain": [
       "                                            window_time_formatted  \\\n",
       "window_time_formatted tollgate_id direction                         \n",
       "2016-10-18 08:00:00   1           0           2016-10-18 08:00:00   \n",
       "                                  1           2016-10-18 08:00:00   \n",
       "                      2           0           2016-10-18 08:00:00   \n",
       "                      3           0           2016-10-18 08:00:00   \n",
       "                                  1           2016-10-18 08:00:00   \n",
       "\n",
       "                                             tollgate_id  direction  count  \\\n",
       "window_time_formatted tollgate_id direction                                  \n",
       "2016-10-18 08:00:00   1           0                    1          0     50   \n",
       "                                  1                    1          1     93   \n",
       "                      2           0                    2          0    120   \n",
       "                      3           0                    3          0    198   \n",
       "                                  1                    3          1    119   \n",
       "\n",
       "                                             hour  \n",
       "window_time_formatted tollgate_id direction        \n",
       "2016-10-18 08:00:00   1           0             8  \n",
       "                                  1             8  \n",
       "                      2           0             8  \n",
       "                      3           0             8  \n",
       "                                  1             8  "
      ]
     },
     "execution_count": 891,
     "metadata": {},
     "output_type": "execute_result"
    }
   ],
   "source": [
    "offical.head()"
   ]
  },
  {
   "cell_type": "code",
   "execution_count": 892,
   "metadata": {
    "collapsed": false
   },
   "outputs": [
    {
     "data": {
      "text/plain": [
       "420"
      ]
     },
     "execution_count": 892,
     "metadata": {},
     "output_type": "execute_result"
    }
   ],
   "source": [
    "len(offical)"
   ]
  },
  {
   "cell_type": "code",
   "execution_count": 893,
   "metadata": {
    "collapsed": true
   },
   "outputs": [],
   "source": [
    "his_pred = pd.read_csv('predictions/history_prediction_503.csv')"
   ]
  },
  {
   "cell_type": "code",
   "execution_count": 894,
   "metadata": {
    "collapsed": false
   },
   "outputs": [],
   "source": [
    "his_pred['window_time_formatted'] = his_pred['time_window'].apply(lambda t : t.split(',')[0].split('[')[1])"
   ]
  },
  {
   "cell_type": "code",
   "execution_count": 895,
   "metadata": {
    "collapsed": true
   },
   "outputs": [],
   "source": [
    "his_pred['window_time_formatted'] = his_pred['window_time_formatted'].apply(\n",
    "    lambda t:  datetime.datetime.strptime(t, '%Y-%m-%d %H:%M:%S'))"
   ]
  },
  {
   "cell_type": "code",
   "execution_count": 896,
   "metadata": {
    "collapsed": false
   },
   "outputs": [
    {
     "data": {
      "text/html": [
       "<div>\n",
       "<table border=\"1\" class=\"dataframe\">\n",
       "  <thead>\n",
       "    <tr style=\"text-align: right;\">\n",
       "      <th></th>\n",
       "      <th>tollgate_id</th>\n",
       "      <th>time_window</th>\n",
       "      <th>direction</th>\n",
       "      <th>volume</th>\n",
       "      <th>window_time_formatted</th>\n",
       "    </tr>\n",
       "  </thead>\n",
       "  <tbody>\n",
       "    <tr>\n",
       "      <th>0</th>\n",
       "      <td>1</td>\n",
       "      <td>[2016-10-18 08:00:00,2016-10-18 08:20:00)</td>\n",
       "      <td>0</td>\n",
       "      <td>44</td>\n",
       "      <td>2016-10-18 08:00:00</td>\n",
       "    </tr>\n",
       "    <tr>\n",
       "      <th>1</th>\n",
       "      <td>1</td>\n",
       "      <td>[2016-10-19 08:00:00,2016-10-19 08:20:00)</td>\n",
       "      <td>0</td>\n",
       "      <td>44</td>\n",
       "      <td>2016-10-19 08:00:00</td>\n",
       "    </tr>\n",
       "    <tr>\n",
       "      <th>2</th>\n",
       "      <td>1</td>\n",
       "      <td>[2016-10-20 08:00:00,2016-10-20 08:20:00)</td>\n",
       "      <td>0</td>\n",
       "      <td>44</td>\n",
       "      <td>2016-10-20 08:00:00</td>\n",
       "    </tr>\n",
       "    <tr>\n",
       "      <th>3</th>\n",
       "      <td>1</td>\n",
       "      <td>[2016-10-21 08:00:00,2016-10-21 08:20:00)</td>\n",
       "      <td>0</td>\n",
       "      <td>44</td>\n",
       "      <td>2016-10-21 08:00:00</td>\n",
       "    </tr>\n",
       "    <tr>\n",
       "      <th>4</th>\n",
       "      <td>1</td>\n",
       "      <td>[2016-10-22 08:00:00,2016-10-22 08:20:00)</td>\n",
       "      <td>0</td>\n",
       "      <td>44</td>\n",
       "      <td>2016-10-22 08:00:00</td>\n",
       "    </tr>\n",
       "  </tbody>\n",
       "</table>\n",
       "</div>"
      ],
      "text/plain": [
       "   tollgate_id                                time_window  direction  volume  \\\n",
       "0            1  [2016-10-18 08:00:00,2016-10-18 08:20:00)          0      44   \n",
       "1            1  [2016-10-19 08:00:00,2016-10-19 08:20:00)          0      44   \n",
       "2            1  [2016-10-20 08:00:00,2016-10-20 08:20:00)          0      44   \n",
       "3            1  [2016-10-21 08:00:00,2016-10-21 08:20:00)          0      44   \n",
       "4            1  [2016-10-22 08:00:00,2016-10-22 08:20:00)          0      44   \n",
       "\n",
       "  window_time_formatted  \n",
       "0   2016-10-18 08:00:00  \n",
       "1   2016-10-19 08:00:00  \n",
       "2   2016-10-20 08:00:00  \n",
       "3   2016-10-21 08:00:00  \n",
       "4   2016-10-22 08:00:00  "
      ]
     },
     "execution_count": 896,
     "metadata": {},
     "output_type": "execute_result"
    }
   ],
   "source": [
    "his_pred.head()"
   ]
  },
  {
   "cell_type": "code",
   "execution_count": 897,
   "metadata": {
    "collapsed": false
   },
   "outputs": [],
   "source": [
    "compare = pd.merge(offical, his_pred, on=['window_time_formatted', 'direction', 'tollgate_id'], how='left')"
   ]
  },
  {
   "cell_type": "code",
   "execution_count": 899,
   "metadata": {
    "collapsed": true
   },
   "outputs": [],
   "source": [
    "def MAPE(preds, outputs):\n",
    "    preds = np.array(preds)\n",
    "    outputs = np.array(outputs)\n",
    "    return np.average(np.abs(outputs - preds) / outputs)"
   ]
  },
  {
   "cell_type": "code",
   "execution_count": 900,
   "metadata": {
    "collapsed": false
   },
   "outputs": [
    {
     "data": {
      "text/plain": [
       "0.19414427798488723"
      ]
     },
     "execution_count": 900,
     "metadata": {},
     "output_type": "execute_result"
    }
   ],
   "source": [
    "MAPE(compare['volume'], compare['count'])"
   ]
  },
  {
   "cell_type": "code",
   "execution_count": 898,
   "metadata": {
    "collapsed": false
   },
   "outputs": [
    {
     "data": {
      "text/html": [
       "<div>\n",
       "<table border=\"1\" class=\"dataframe\">\n",
       "  <thead>\n",
       "    <tr style=\"text-align: right;\">\n",
       "      <th></th>\n",
       "      <th>window_time_formatted</th>\n",
       "      <th>tollgate_id</th>\n",
       "      <th>direction</th>\n",
       "      <th>count</th>\n",
       "      <th>hour</th>\n",
       "      <th>time_window</th>\n",
       "      <th>volume</th>\n",
       "    </tr>\n",
       "  </thead>\n",
       "  <tbody>\n",
       "    <tr>\n",
       "      <th>0</th>\n",
       "      <td>2016-10-18 08:00:00</td>\n",
       "      <td>1</td>\n",
       "      <td>0</td>\n",
       "      <td>50</td>\n",
       "      <td>8</td>\n",
       "      <td>[2016-10-18 08:00:00,2016-10-18 08:20:00)</td>\n",
       "      <td>44</td>\n",
       "    </tr>\n",
       "    <tr>\n",
       "      <th>1</th>\n",
       "      <td>2016-10-18 08:00:00</td>\n",
       "      <td>1</td>\n",
       "      <td>1</td>\n",
       "      <td>93</td>\n",
       "      <td>8</td>\n",
       "      <td>[2016-10-18 08:00:00,2016-10-18 08:20:00)</td>\n",
       "      <td>112</td>\n",
       "    </tr>\n",
       "    <tr>\n",
       "      <th>2</th>\n",
       "      <td>2016-10-18 08:00:00</td>\n",
       "      <td>2</td>\n",
       "      <td>0</td>\n",
       "      <td>120</td>\n",
       "      <td>8</td>\n",
       "      <td>[2016-10-18 08:00:00,2016-10-18 08:20:00)</td>\n",
       "      <td>117</td>\n",
       "    </tr>\n",
       "    <tr>\n",
       "      <th>3</th>\n",
       "      <td>2016-10-18 08:00:00</td>\n",
       "      <td>3</td>\n",
       "      <td>0</td>\n",
       "      <td>198</td>\n",
       "      <td>8</td>\n",
       "      <td>[2016-10-18 08:00:00,2016-10-18 08:20:00)</td>\n",
       "      <td>142</td>\n",
       "    </tr>\n",
       "    <tr>\n",
       "      <th>4</th>\n",
       "      <td>2016-10-18 08:00:00</td>\n",
       "      <td>3</td>\n",
       "      <td>1</td>\n",
       "      <td>119</td>\n",
       "      <td>8</td>\n",
       "      <td>[2016-10-18 08:00:00,2016-10-18 08:20:00)</td>\n",
       "      <td>112</td>\n",
       "    </tr>\n",
       "    <tr>\n",
       "      <th>5</th>\n",
       "      <td>2016-10-18 08:20:00</td>\n",
       "      <td>1</td>\n",
       "      <td>0</td>\n",
       "      <td>41</td>\n",
       "      <td>8</td>\n",
       "      <td>[2016-10-18 08:20:00,2016-10-18 08:40:00)</td>\n",
       "      <td>50</td>\n",
       "    </tr>\n",
       "    <tr>\n",
       "      <th>6</th>\n",
       "      <td>2016-10-18 08:20:00</td>\n",
       "      <td>1</td>\n",
       "      <td>1</td>\n",
       "      <td>134</td>\n",
       "      <td>8</td>\n",
       "      <td>[2016-10-18 08:20:00,2016-10-18 08:40:00)</td>\n",
       "      <td>108</td>\n",
       "    </tr>\n",
       "    <tr>\n",
       "      <th>7</th>\n",
       "      <td>2016-10-18 08:20:00</td>\n",
       "      <td>2</td>\n",
       "      <td>0</td>\n",
       "      <td>130</td>\n",
       "      <td>8</td>\n",
       "      <td>[2016-10-18 08:20:00,2016-10-18 08:40:00)</td>\n",
       "      <td>121</td>\n",
       "    </tr>\n",
       "    <tr>\n",
       "      <th>8</th>\n",
       "      <td>2016-10-18 08:20:00</td>\n",
       "      <td>3</td>\n",
       "      <td>0</td>\n",
       "      <td>153</td>\n",
       "      <td>8</td>\n",
       "      <td>[2016-10-18 08:20:00,2016-10-18 08:40:00)</td>\n",
       "      <td>145</td>\n",
       "    </tr>\n",
       "    <tr>\n",
       "      <th>9</th>\n",
       "      <td>2016-10-18 08:20:00</td>\n",
       "      <td>3</td>\n",
       "      <td>1</td>\n",
       "      <td>101</td>\n",
       "      <td>8</td>\n",
       "      <td>[2016-10-18 08:20:00,2016-10-18 08:40:00)</td>\n",
       "      <td>122</td>\n",
       "    </tr>\n",
       "    <tr>\n",
       "      <th>10</th>\n",
       "      <td>2016-10-18 08:40:00</td>\n",
       "      <td>1</td>\n",
       "      <td>0</td>\n",
       "      <td>49</td>\n",
       "      <td>8</td>\n",
       "      <td>[2016-10-18 08:40:00,2016-10-18 09:00:00)</td>\n",
       "      <td>50</td>\n",
       "    </tr>\n",
       "    <tr>\n",
       "      <th>11</th>\n",
       "      <td>2016-10-18 08:40:00</td>\n",
       "      <td>1</td>\n",
       "      <td>1</td>\n",
       "      <td>121</td>\n",
       "      <td>8</td>\n",
       "      <td>[2016-10-18 08:40:00,2016-10-18 09:00:00)</td>\n",
       "      <td>109</td>\n",
       "    </tr>\n",
       "    <tr>\n",
       "      <th>12</th>\n",
       "      <td>2016-10-18 08:40:00</td>\n",
       "      <td>2</td>\n",
       "      <td>0</td>\n",
       "      <td>116</td>\n",
       "      <td>8</td>\n",
       "      <td>[2016-10-18 08:40:00,2016-10-18 09:00:00)</td>\n",
       "      <td>112</td>\n",
       "    </tr>\n",
       "    <tr>\n",
       "      <th>13</th>\n",
       "      <td>2016-10-18 08:40:00</td>\n",
       "      <td>3</td>\n",
       "      <td>0</td>\n",
       "      <td>125</td>\n",
       "      <td>8</td>\n",
       "      <td>[2016-10-18 08:40:00,2016-10-18 09:00:00)</td>\n",
       "      <td>146</td>\n",
       "    </tr>\n",
       "    <tr>\n",
       "      <th>14</th>\n",
       "      <td>2016-10-18 08:40:00</td>\n",
       "      <td>3</td>\n",
       "      <td>1</td>\n",
       "      <td>136</td>\n",
       "      <td>8</td>\n",
       "      <td>[2016-10-18 08:40:00,2016-10-18 09:00:00)</td>\n",
       "      <td>134</td>\n",
       "    </tr>\n",
       "    <tr>\n",
       "      <th>15</th>\n",
       "      <td>2016-10-18 09:00:00</td>\n",
       "      <td>1</td>\n",
       "      <td>0</td>\n",
       "      <td>61</td>\n",
       "      <td>9</td>\n",
       "      <td>[2016-10-18 09:00:00,2016-10-18 09:20:00)</td>\n",
       "      <td>51</td>\n",
       "    </tr>\n",
       "    <tr>\n",
       "      <th>16</th>\n",
       "      <td>2016-10-18 09:00:00</td>\n",
       "      <td>1</td>\n",
       "      <td>1</td>\n",
       "      <td>86</td>\n",
       "      <td>9</td>\n",
       "      <td>[2016-10-18 09:00:00,2016-10-18 09:20:00)</td>\n",
       "      <td>114</td>\n",
       "    </tr>\n",
       "    <tr>\n",
       "      <th>17</th>\n",
       "      <td>2016-10-18 09:00:00</td>\n",
       "      <td>2</td>\n",
       "      <td>0</td>\n",
       "      <td>94</td>\n",
       "      <td>9</td>\n",
       "      <td>[2016-10-18 09:00:00,2016-10-18 09:20:00)</td>\n",
       "      <td>107</td>\n",
       "    </tr>\n",
       "    <tr>\n",
       "      <th>18</th>\n",
       "      <td>2016-10-18 09:00:00</td>\n",
       "      <td>3</td>\n",
       "      <td>0</td>\n",
       "      <td>176</td>\n",
       "      <td>9</td>\n",
       "      <td>[2016-10-18 09:00:00,2016-10-18 09:20:00)</td>\n",
       "      <td>146</td>\n",
       "    </tr>\n",
       "    <tr>\n",
       "      <th>19</th>\n",
       "      <td>2016-10-18 09:00:00</td>\n",
       "      <td>3</td>\n",
       "      <td>1</td>\n",
       "      <td>120</td>\n",
       "      <td>9</td>\n",
       "      <td>[2016-10-18 09:00:00,2016-10-18 09:20:00)</td>\n",
       "      <td>123</td>\n",
       "    </tr>\n",
       "    <tr>\n",
       "      <th>20</th>\n",
       "      <td>2016-10-18 09:20:00</td>\n",
       "      <td>1</td>\n",
       "      <td>0</td>\n",
       "      <td>39</td>\n",
       "      <td>9</td>\n",
       "      <td>[2016-10-18 09:20:00,2016-10-18 09:40:00)</td>\n",
       "      <td>52</td>\n",
       "    </tr>\n",
       "    <tr>\n",
       "      <th>21</th>\n",
       "      <td>2016-10-18 09:20:00</td>\n",
       "      <td>1</td>\n",
       "      <td>1</td>\n",
       "      <td>108</td>\n",
       "      <td>9</td>\n",
       "      <td>[2016-10-18 09:20:00,2016-10-18 09:40:00)</td>\n",
       "      <td>111</td>\n",
       "    </tr>\n",
       "    <tr>\n",
       "      <th>22</th>\n",
       "      <td>2016-10-18 09:20:00</td>\n",
       "      <td>2</td>\n",
       "      <td>0</td>\n",
       "      <td>90</td>\n",
       "      <td>9</td>\n",
       "      <td>[2016-10-18 09:20:00,2016-10-18 09:40:00)</td>\n",
       "      <td>100</td>\n",
       "    </tr>\n",
       "    <tr>\n",
       "      <th>23</th>\n",
       "      <td>2016-10-18 09:20:00</td>\n",
       "      <td>3</td>\n",
       "      <td>0</td>\n",
       "      <td>130</td>\n",
       "      <td>9</td>\n",
       "      <td>[2016-10-18 09:20:00,2016-10-18 09:40:00)</td>\n",
       "      <td>137</td>\n",
       "    </tr>\n",
       "    <tr>\n",
       "      <th>24</th>\n",
       "      <td>2016-10-18 09:20:00</td>\n",
       "      <td>3</td>\n",
       "      <td>1</td>\n",
       "      <td>136</td>\n",
       "      <td>9</td>\n",
       "      <td>[2016-10-18 09:20:00,2016-10-18 09:40:00)</td>\n",
       "      <td>113</td>\n",
       "    </tr>\n",
       "    <tr>\n",
       "      <th>25</th>\n",
       "      <td>2016-10-18 09:40:00</td>\n",
       "      <td>1</td>\n",
       "      <td>0</td>\n",
       "      <td>46</td>\n",
       "      <td>9</td>\n",
       "      <td>[2016-10-18 09:40:00,2016-10-18 10:00:00)</td>\n",
       "      <td>50</td>\n",
       "    </tr>\n",
       "    <tr>\n",
       "      <th>26</th>\n",
       "      <td>2016-10-18 09:40:00</td>\n",
       "      <td>1</td>\n",
       "      <td>1</td>\n",
       "      <td>113</td>\n",
       "      <td>9</td>\n",
       "      <td>[2016-10-18 09:40:00,2016-10-18 10:00:00)</td>\n",
       "      <td>107</td>\n",
       "    </tr>\n",
       "    <tr>\n",
       "      <th>27</th>\n",
       "      <td>2016-10-18 09:40:00</td>\n",
       "      <td>2</td>\n",
       "      <td>0</td>\n",
       "      <td>74</td>\n",
       "      <td>9</td>\n",
       "      <td>[2016-10-18 09:40:00,2016-10-18 10:00:00)</td>\n",
       "      <td>85</td>\n",
       "    </tr>\n",
       "    <tr>\n",
       "      <th>28</th>\n",
       "      <td>2016-10-18 09:40:00</td>\n",
       "      <td>3</td>\n",
       "      <td>0</td>\n",
       "      <td>127</td>\n",
       "      <td>9</td>\n",
       "      <td>[2016-10-18 09:40:00,2016-10-18 10:00:00)</td>\n",
       "      <td>124</td>\n",
       "    </tr>\n",
       "    <tr>\n",
       "      <th>29</th>\n",
       "      <td>2016-10-18 09:40:00</td>\n",
       "      <td>3</td>\n",
       "      <td>1</td>\n",
       "      <td>99</td>\n",
       "      <td>9</td>\n",
       "      <td>[2016-10-18 09:40:00,2016-10-18 10:00:00)</td>\n",
       "      <td>102</td>\n",
       "    </tr>\n",
       "    <tr>\n",
       "      <th>...</th>\n",
       "      <td>...</td>\n",
       "      <td>...</td>\n",
       "      <td>...</td>\n",
       "      <td>...</td>\n",
       "      <td>...</td>\n",
       "      <td>...</td>\n",
       "      <td>...</td>\n",
       "    </tr>\n",
       "    <tr>\n",
       "      <th>390</th>\n",
       "      <td>2016-10-24 17:00:00</td>\n",
       "      <td>1</td>\n",
       "      <td>0</td>\n",
       "      <td>32</td>\n",
       "      <td>17</td>\n",
       "      <td>[2016-10-24 17:00:00,2016-10-24 17:20:00)</td>\n",
       "      <td>45</td>\n",
       "    </tr>\n",
       "    <tr>\n",
       "      <th>391</th>\n",
       "      <td>2016-10-24 17:00:00</td>\n",
       "      <td>1</td>\n",
       "      <td>1</td>\n",
       "      <td>108</td>\n",
       "      <td>17</td>\n",
       "      <td>[2016-10-24 17:00:00,2016-10-24 17:20:00)</td>\n",
       "      <td>93</td>\n",
       "    </tr>\n",
       "    <tr>\n",
       "      <th>392</th>\n",
       "      <td>2016-10-24 17:00:00</td>\n",
       "      <td>2</td>\n",
       "      <td>0</td>\n",
       "      <td>74</td>\n",
       "      <td>17</td>\n",
       "      <td>[2016-10-24 17:00:00,2016-10-24 17:20:00)</td>\n",
       "      <td>83</td>\n",
       "    </tr>\n",
       "    <tr>\n",
       "      <th>393</th>\n",
       "      <td>2016-10-24 17:00:00</td>\n",
       "      <td>3</td>\n",
       "      <td>0</td>\n",
       "      <td>133</td>\n",
       "      <td>17</td>\n",
       "      <td>[2016-10-24 17:00:00,2016-10-24 17:20:00)</td>\n",
       "      <td>123</td>\n",
       "    </tr>\n",
       "    <tr>\n",
       "      <th>394</th>\n",
       "      <td>2016-10-24 17:00:00</td>\n",
       "      <td>3</td>\n",
       "      <td>1</td>\n",
       "      <td>80</td>\n",
       "      <td>17</td>\n",
       "      <td>[2016-10-24 17:00:00,2016-10-24 17:20:00)</td>\n",
       "      <td>86</td>\n",
       "    </tr>\n",
       "    <tr>\n",
       "      <th>395</th>\n",
       "      <td>2016-10-24 17:20:00</td>\n",
       "      <td>1</td>\n",
       "      <td>0</td>\n",
       "      <td>39</td>\n",
       "      <td>17</td>\n",
       "      <td>[2016-10-24 17:20:00,2016-10-24 17:40:00)</td>\n",
       "      <td>40</td>\n",
       "    </tr>\n",
       "    <tr>\n",
       "      <th>396</th>\n",
       "      <td>2016-10-24 17:20:00</td>\n",
       "      <td>1</td>\n",
       "      <td>1</td>\n",
       "      <td>112</td>\n",
       "      <td>17</td>\n",
       "      <td>[2016-10-24 17:20:00,2016-10-24 17:40:00)</td>\n",
       "      <td>111</td>\n",
       "    </tr>\n",
       "    <tr>\n",
       "      <th>397</th>\n",
       "      <td>2016-10-24 17:20:00</td>\n",
       "      <td>2</td>\n",
       "      <td>0</td>\n",
       "      <td>60</td>\n",
       "      <td>17</td>\n",
       "      <td>[2016-10-24 17:20:00,2016-10-24 17:40:00)</td>\n",
       "      <td>80</td>\n",
       "    </tr>\n",
       "    <tr>\n",
       "      <th>398</th>\n",
       "      <td>2016-10-24 17:20:00</td>\n",
       "      <td>3</td>\n",
       "      <td>0</td>\n",
       "      <td>107</td>\n",
       "      <td>17</td>\n",
       "      <td>[2016-10-24 17:20:00,2016-10-24 17:40:00)</td>\n",
       "      <td>117</td>\n",
       "    </tr>\n",
       "    <tr>\n",
       "      <th>399</th>\n",
       "      <td>2016-10-24 17:20:00</td>\n",
       "      <td>3</td>\n",
       "      <td>1</td>\n",
       "      <td>97</td>\n",
       "      <td>17</td>\n",
       "      <td>[2016-10-24 17:20:00,2016-10-24 17:40:00)</td>\n",
       "      <td>90</td>\n",
       "    </tr>\n",
       "    <tr>\n",
       "      <th>400</th>\n",
       "      <td>2016-10-24 17:40:00</td>\n",
       "      <td>1</td>\n",
       "      <td>0</td>\n",
       "      <td>29</td>\n",
       "      <td>17</td>\n",
       "      <td>[2016-10-24 17:40:00,2016-10-24 18:00:00)</td>\n",
       "      <td>34</td>\n",
       "    </tr>\n",
       "    <tr>\n",
       "      <th>401</th>\n",
       "      <td>2016-10-24 17:40:00</td>\n",
       "      <td>1</td>\n",
       "      <td>1</td>\n",
       "      <td>134</td>\n",
       "      <td>17</td>\n",
       "      <td>[2016-10-24 17:40:00,2016-10-24 18:00:00)</td>\n",
       "      <td>108</td>\n",
       "    </tr>\n",
       "    <tr>\n",
       "      <th>402</th>\n",
       "      <td>2016-10-24 17:40:00</td>\n",
       "      <td>2</td>\n",
       "      <td>0</td>\n",
       "      <td>61</td>\n",
       "      <td>17</td>\n",
       "      <td>[2016-10-24 17:40:00,2016-10-24 18:00:00)</td>\n",
       "      <td>64</td>\n",
       "    </tr>\n",
       "    <tr>\n",
       "      <th>403</th>\n",
       "      <td>2016-10-24 17:40:00</td>\n",
       "      <td>3</td>\n",
       "      <td>0</td>\n",
       "      <td>110</td>\n",
       "      <td>17</td>\n",
       "      <td>[2016-10-24 17:40:00,2016-10-24 18:00:00)</td>\n",
       "      <td>106</td>\n",
       "    </tr>\n",
       "    <tr>\n",
       "      <th>404</th>\n",
       "      <td>2016-10-24 17:40:00</td>\n",
       "      <td>3</td>\n",
       "      <td>1</td>\n",
       "      <td>80</td>\n",
       "      <td>17</td>\n",
       "      <td>[2016-10-24 17:40:00,2016-10-24 18:00:00)</td>\n",
       "      <td>94</td>\n",
       "    </tr>\n",
       "    <tr>\n",
       "      <th>405</th>\n",
       "      <td>2016-10-24 18:00:00</td>\n",
       "      <td>1</td>\n",
       "      <td>0</td>\n",
       "      <td>15</td>\n",
       "      <td>18</td>\n",
       "      <td>[2016-10-24 18:00:00,2016-10-24 18:20:00)</td>\n",
       "      <td>31</td>\n",
       "    </tr>\n",
       "    <tr>\n",
       "      <th>406</th>\n",
       "      <td>2016-10-24 18:00:00</td>\n",
       "      <td>1</td>\n",
       "      <td>1</td>\n",
       "      <td>69</td>\n",
       "      <td>18</td>\n",
       "      <td>[2016-10-24 18:00:00,2016-10-24 18:20:00)</td>\n",
       "      <td>72</td>\n",
       "    </tr>\n",
       "    <tr>\n",
       "      <th>407</th>\n",
       "      <td>2016-10-24 18:00:00</td>\n",
       "      <td>2</td>\n",
       "      <td>0</td>\n",
       "      <td>53</td>\n",
       "      <td>18</td>\n",
       "      <td>[2016-10-24 18:00:00,2016-10-24 18:20:00)</td>\n",
       "      <td>65</td>\n",
       "    </tr>\n",
       "    <tr>\n",
       "      <th>408</th>\n",
       "      <td>2016-10-24 18:00:00</td>\n",
       "      <td>3</td>\n",
       "      <td>0</td>\n",
       "      <td>75</td>\n",
       "      <td>18</td>\n",
       "      <td>[2016-10-24 18:00:00,2016-10-24 18:20:00)</td>\n",
       "      <td>90</td>\n",
       "    </tr>\n",
       "    <tr>\n",
       "      <th>409</th>\n",
       "      <td>2016-10-24 18:00:00</td>\n",
       "      <td>3</td>\n",
       "      <td>1</td>\n",
       "      <td>91</td>\n",
       "      <td>18</td>\n",
       "      <td>[2016-10-24 18:00:00,2016-10-24 18:20:00)</td>\n",
       "      <td>82</td>\n",
       "    </tr>\n",
       "    <tr>\n",
       "      <th>410</th>\n",
       "      <td>2016-10-24 18:20:00</td>\n",
       "      <td>1</td>\n",
       "      <td>0</td>\n",
       "      <td>18</td>\n",
       "      <td>18</td>\n",
       "      <td>[2016-10-24 18:20:00,2016-10-24 18:40:00)</td>\n",
       "      <td>29</td>\n",
       "    </tr>\n",
       "    <tr>\n",
       "      <th>411</th>\n",
       "      <td>2016-10-24 18:20:00</td>\n",
       "      <td>1</td>\n",
       "      <td>1</td>\n",
       "      <td>84</td>\n",
       "      <td>18</td>\n",
       "      <td>[2016-10-24 18:20:00,2016-10-24 18:40:00)</td>\n",
       "      <td>77</td>\n",
       "    </tr>\n",
       "    <tr>\n",
       "      <th>412</th>\n",
       "      <td>2016-10-24 18:20:00</td>\n",
       "      <td>2</td>\n",
       "      <td>0</td>\n",
       "      <td>45</td>\n",
       "      <td>18</td>\n",
       "      <td>[2016-10-24 18:20:00,2016-10-24 18:40:00)</td>\n",
       "      <td>59</td>\n",
       "    </tr>\n",
       "    <tr>\n",
       "      <th>413</th>\n",
       "      <td>2016-10-24 18:20:00</td>\n",
       "      <td>3</td>\n",
       "      <td>0</td>\n",
       "      <td>62</td>\n",
       "      <td>18</td>\n",
       "      <td>[2016-10-24 18:20:00,2016-10-24 18:40:00)</td>\n",
       "      <td>82</td>\n",
       "    </tr>\n",
       "    <tr>\n",
       "      <th>414</th>\n",
       "      <td>2016-10-24 18:20:00</td>\n",
       "      <td>3</td>\n",
       "      <td>1</td>\n",
       "      <td>94</td>\n",
       "      <td>18</td>\n",
       "      <td>[2016-10-24 18:20:00,2016-10-24 18:40:00)</td>\n",
       "      <td>74</td>\n",
       "    </tr>\n",
       "    <tr>\n",
       "      <th>415</th>\n",
       "      <td>2016-10-24 18:40:00</td>\n",
       "      <td>1</td>\n",
       "      <td>0</td>\n",
       "      <td>13</td>\n",
       "      <td>18</td>\n",
       "      <td>[2016-10-24 18:40:00,2016-10-24 19:00:00)</td>\n",
       "      <td>27</td>\n",
       "    </tr>\n",
       "    <tr>\n",
       "      <th>416</th>\n",
       "      <td>2016-10-24 18:40:00</td>\n",
       "      <td>1</td>\n",
       "      <td>1</td>\n",
       "      <td>69</td>\n",
       "      <td>18</td>\n",
       "      <td>[2016-10-24 18:40:00,2016-10-24 19:00:00)</td>\n",
       "      <td>66</td>\n",
       "    </tr>\n",
       "    <tr>\n",
       "      <th>417</th>\n",
       "      <td>2016-10-24 18:40:00</td>\n",
       "      <td>2</td>\n",
       "      <td>0</td>\n",
       "      <td>37</td>\n",
       "      <td>18</td>\n",
       "      <td>[2016-10-24 18:40:00,2016-10-24 19:00:00)</td>\n",
       "      <td>47</td>\n",
       "    </tr>\n",
       "    <tr>\n",
       "      <th>418</th>\n",
       "      <td>2016-10-24 18:40:00</td>\n",
       "      <td>3</td>\n",
       "      <td>0</td>\n",
       "      <td>49</td>\n",
       "      <td>18</td>\n",
       "      <td>[2016-10-24 18:40:00,2016-10-24 19:00:00)</td>\n",
       "      <td>69</td>\n",
       "    </tr>\n",
       "    <tr>\n",
       "      <th>419</th>\n",
       "      <td>2016-10-24 18:40:00</td>\n",
       "      <td>3</td>\n",
       "      <td>1</td>\n",
       "      <td>74</td>\n",
       "      <td>18</td>\n",
       "      <td>[2016-10-24 18:40:00,2016-10-24 19:00:00)</td>\n",
       "      <td>72</td>\n",
       "    </tr>\n",
       "  </tbody>\n",
       "</table>\n",
       "<p>420 rows × 7 columns</p>\n",
       "</div>"
      ],
      "text/plain": [
       "    window_time_formatted  tollgate_id  direction  count  hour  \\\n",
       "0     2016-10-18 08:00:00            1          0     50     8   \n",
       "1     2016-10-18 08:00:00            1          1     93     8   \n",
       "2     2016-10-18 08:00:00            2          0    120     8   \n",
       "3     2016-10-18 08:00:00            3          0    198     8   \n",
       "4     2016-10-18 08:00:00            3          1    119     8   \n",
       "5     2016-10-18 08:20:00            1          0     41     8   \n",
       "6     2016-10-18 08:20:00            1          1    134     8   \n",
       "7     2016-10-18 08:20:00            2          0    130     8   \n",
       "8     2016-10-18 08:20:00            3          0    153     8   \n",
       "9     2016-10-18 08:20:00            3          1    101     8   \n",
       "10    2016-10-18 08:40:00            1          0     49     8   \n",
       "11    2016-10-18 08:40:00            1          1    121     8   \n",
       "12    2016-10-18 08:40:00            2          0    116     8   \n",
       "13    2016-10-18 08:40:00            3          0    125     8   \n",
       "14    2016-10-18 08:40:00            3          1    136     8   \n",
       "15    2016-10-18 09:00:00            1          0     61     9   \n",
       "16    2016-10-18 09:00:00            1          1     86     9   \n",
       "17    2016-10-18 09:00:00            2          0     94     9   \n",
       "18    2016-10-18 09:00:00            3          0    176     9   \n",
       "19    2016-10-18 09:00:00            3          1    120     9   \n",
       "20    2016-10-18 09:20:00            1          0     39     9   \n",
       "21    2016-10-18 09:20:00            1          1    108     9   \n",
       "22    2016-10-18 09:20:00            2          0     90     9   \n",
       "23    2016-10-18 09:20:00            3          0    130     9   \n",
       "24    2016-10-18 09:20:00            3          1    136     9   \n",
       "25    2016-10-18 09:40:00            1          0     46     9   \n",
       "26    2016-10-18 09:40:00            1          1    113     9   \n",
       "27    2016-10-18 09:40:00            2          0     74     9   \n",
       "28    2016-10-18 09:40:00            3          0    127     9   \n",
       "29    2016-10-18 09:40:00            3          1     99     9   \n",
       "..                    ...          ...        ...    ...   ...   \n",
       "390   2016-10-24 17:00:00            1          0     32    17   \n",
       "391   2016-10-24 17:00:00            1          1    108    17   \n",
       "392   2016-10-24 17:00:00            2          0     74    17   \n",
       "393   2016-10-24 17:00:00            3          0    133    17   \n",
       "394   2016-10-24 17:00:00            3          1     80    17   \n",
       "395   2016-10-24 17:20:00            1          0     39    17   \n",
       "396   2016-10-24 17:20:00            1          1    112    17   \n",
       "397   2016-10-24 17:20:00            2          0     60    17   \n",
       "398   2016-10-24 17:20:00            3          0    107    17   \n",
       "399   2016-10-24 17:20:00            3          1     97    17   \n",
       "400   2016-10-24 17:40:00            1          0     29    17   \n",
       "401   2016-10-24 17:40:00            1          1    134    17   \n",
       "402   2016-10-24 17:40:00            2          0     61    17   \n",
       "403   2016-10-24 17:40:00            3          0    110    17   \n",
       "404   2016-10-24 17:40:00            3          1     80    17   \n",
       "405   2016-10-24 18:00:00            1          0     15    18   \n",
       "406   2016-10-24 18:00:00            1          1     69    18   \n",
       "407   2016-10-24 18:00:00            2          0     53    18   \n",
       "408   2016-10-24 18:00:00            3          0     75    18   \n",
       "409   2016-10-24 18:00:00            3          1     91    18   \n",
       "410   2016-10-24 18:20:00            1          0     18    18   \n",
       "411   2016-10-24 18:20:00            1          1     84    18   \n",
       "412   2016-10-24 18:20:00            2          0     45    18   \n",
       "413   2016-10-24 18:20:00            3          0     62    18   \n",
       "414   2016-10-24 18:20:00            3          1     94    18   \n",
       "415   2016-10-24 18:40:00            1          0     13    18   \n",
       "416   2016-10-24 18:40:00            1          1     69    18   \n",
       "417   2016-10-24 18:40:00            2          0     37    18   \n",
       "418   2016-10-24 18:40:00            3          0     49    18   \n",
       "419   2016-10-24 18:40:00            3          1     74    18   \n",
       "\n",
       "                                   time_window  volume  \n",
       "0    [2016-10-18 08:00:00,2016-10-18 08:20:00)      44  \n",
       "1    [2016-10-18 08:00:00,2016-10-18 08:20:00)     112  \n",
       "2    [2016-10-18 08:00:00,2016-10-18 08:20:00)     117  \n",
       "3    [2016-10-18 08:00:00,2016-10-18 08:20:00)     142  \n",
       "4    [2016-10-18 08:00:00,2016-10-18 08:20:00)     112  \n",
       "5    [2016-10-18 08:20:00,2016-10-18 08:40:00)      50  \n",
       "6    [2016-10-18 08:20:00,2016-10-18 08:40:00)     108  \n",
       "7    [2016-10-18 08:20:00,2016-10-18 08:40:00)     121  \n",
       "8    [2016-10-18 08:20:00,2016-10-18 08:40:00)     145  \n",
       "9    [2016-10-18 08:20:00,2016-10-18 08:40:00)     122  \n",
       "10   [2016-10-18 08:40:00,2016-10-18 09:00:00)      50  \n",
       "11   [2016-10-18 08:40:00,2016-10-18 09:00:00)     109  \n",
       "12   [2016-10-18 08:40:00,2016-10-18 09:00:00)     112  \n",
       "13   [2016-10-18 08:40:00,2016-10-18 09:00:00)     146  \n",
       "14   [2016-10-18 08:40:00,2016-10-18 09:00:00)     134  \n",
       "15   [2016-10-18 09:00:00,2016-10-18 09:20:00)      51  \n",
       "16   [2016-10-18 09:00:00,2016-10-18 09:20:00)     114  \n",
       "17   [2016-10-18 09:00:00,2016-10-18 09:20:00)     107  \n",
       "18   [2016-10-18 09:00:00,2016-10-18 09:20:00)     146  \n",
       "19   [2016-10-18 09:00:00,2016-10-18 09:20:00)     123  \n",
       "20   [2016-10-18 09:20:00,2016-10-18 09:40:00)      52  \n",
       "21   [2016-10-18 09:20:00,2016-10-18 09:40:00)     111  \n",
       "22   [2016-10-18 09:20:00,2016-10-18 09:40:00)     100  \n",
       "23   [2016-10-18 09:20:00,2016-10-18 09:40:00)     137  \n",
       "24   [2016-10-18 09:20:00,2016-10-18 09:40:00)     113  \n",
       "25   [2016-10-18 09:40:00,2016-10-18 10:00:00)      50  \n",
       "26   [2016-10-18 09:40:00,2016-10-18 10:00:00)     107  \n",
       "27   [2016-10-18 09:40:00,2016-10-18 10:00:00)      85  \n",
       "28   [2016-10-18 09:40:00,2016-10-18 10:00:00)     124  \n",
       "29   [2016-10-18 09:40:00,2016-10-18 10:00:00)     102  \n",
       "..                                         ...     ...  \n",
       "390  [2016-10-24 17:00:00,2016-10-24 17:20:00)      45  \n",
       "391  [2016-10-24 17:00:00,2016-10-24 17:20:00)      93  \n",
       "392  [2016-10-24 17:00:00,2016-10-24 17:20:00)      83  \n",
       "393  [2016-10-24 17:00:00,2016-10-24 17:20:00)     123  \n",
       "394  [2016-10-24 17:00:00,2016-10-24 17:20:00)      86  \n",
       "395  [2016-10-24 17:20:00,2016-10-24 17:40:00)      40  \n",
       "396  [2016-10-24 17:20:00,2016-10-24 17:40:00)     111  \n",
       "397  [2016-10-24 17:20:00,2016-10-24 17:40:00)      80  \n",
       "398  [2016-10-24 17:20:00,2016-10-24 17:40:00)     117  \n",
       "399  [2016-10-24 17:20:00,2016-10-24 17:40:00)      90  \n",
       "400  [2016-10-24 17:40:00,2016-10-24 18:00:00)      34  \n",
       "401  [2016-10-24 17:40:00,2016-10-24 18:00:00)     108  \n",
       "402  [2016-10-24 17:40:00,2016-10-24 18:00:00)      64  \n",
       "403  [2016-10-24 17:40:00,2016-10-24 18:00:00)     106  \n",
       "404  [2016-10-24 17:40:00,2016-10-24 18:00:00)      94  \n",
       "405  [2016-10-24 18:00:00,2016-10-24 18:20:00)      31  \n",
       "406  [2016-10-24 18:00:00,2016-10-24 18:20:00)      72  \n",
       "407  [2016-10-24 18:00:00,2016-10-24 18:20:00)      65  \n",
       "408  [2016-10-24 18:00:00,2016-10-24 18:20:00)      90  \n",
       "409  [2016-10-24 18:00:00,2016-10-24 18:20:00)      82  \n",
       "410  [2016-10-24 18:20:00,2016-10-24 18:40:00)      29  \n",
       "411  [2016-10-24 18:20:00,2016-10-24 18:40:00)      77  \n",
       "412  [2016-10-24 18:20:00,2016-10-24 18:40:00)      59  \n",
       "413  [2016-10-24 18:20:00,2016-10-24 18:40:00)      82  \n",
       "414  [2016-10-24 18:20:00,2016-10-24 18:40:00)      74  \n",
       "415  [2016-10-24 18:40:00,2016-10-24 19:00:00)      27  \n",
       "416  [2016-10-24 18:40:00,2016-10-24 19:00:00)      66  \n",
       "417  [2016-10-24 18:40:00,2016-10-24 19:00:00)      47  \n",
       "418  [2016-10-24 18:40:00,2016-10-24 19:00:00)      69  \n",
       "419  [2016-10-24 18:40:00,2016-10-24 19:00:00)      72  \n",
       "\n",
       "[420 rows x 7 columns]"
      ]
     },
     "execution_count": 898,
     "metadata": {},
     "output_type": "execute_result"
    }
   ],
   "source": [
    "compare"
   ]
  },
  {
   "cell_type": "code",
   "execution_count": null,
   "metadata": {
    "collapsed": true
   },
   "outputs": [],
   "source": []
  }
 ],
 "metadata": {
  "kernelspec": {
   "display_name": "Python 2",
   "language": "python",
   "name": "python2"
  },
  "language_info": {
   "codemirror_mode": {
    "name": "ipython",
    "version": 2
   },
   "file_extension": ".py",
   "mimetype": "text/x-python",
   "name": "python",
   "nbconvert_exporter": "python",
   "pygments_lexer": "ipython2",
   "version": "2.7.13"
  }
 },
 "nbformat": 4,
 "nbformat_minor": 0
}
